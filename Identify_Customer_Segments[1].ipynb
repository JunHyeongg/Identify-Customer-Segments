{
 "cells": [
  {
   "cell_type": "markdown",
   "metadata": {},
   "source": [
    "# Project: Identify Customer Segments\n",
    "\n",
    "In this project, you will apply unsupervised learning techniques to identify segments of the population that form the core customer base for a mail-order sales company in Germany. These segments can then be used to direct marketing campaigns towards audiences that will have the highest expected rate of returns. The data that you will use has been provided by our partners at Bertelsmann Arvato Analytics, and represents a real-life data science task.\n",
    "\n",
    "This notebook will help you complete this task by providing a framework within which you will perform your analysis steps. In each step of the project, you will see some text describing the subtask that you will perform, followed by one or more code cells for you to complete your work. **Feel free to add additional code and markdown cells as you go along so that you can explore everything in precise chunks.** The code cells provided in the base template will outline only the major tasks, and will usually not be enough to cover all of the minor tasks that comprise it.\n",
    "\n",
    "It should be noted that while there will be precise guidelines on how you should handle certain tasks in the project, there will also be places where an exact specification is not provided. **There will be times in the project where you will need to make and justify your own decisions on how to treat the data.** These are places where there may not be only one way to handle the data. In real-life tasks, there may be many valid ways to approach an analysis task. One of the most important things you can do is clearly document your approach so that other scientists can understand the decisions you've made.\n",
    "\n",
    "At the end of most sections, there will be a Markdown cell labeled **Discussion**. In these cells, you will report your findings for the completed section, as well as document the decisions that you made in your approach to each subtask. **Your project will be evaluated not just on the code used to complete the tasks outlined, but also your communication about your observations and conclusions at each stage.**"
   ]
  },
  {
   "cell_type": "code",
   "execution_count": 1,
   "metadata": {},
   "outputs": [],
   "source": [
    "# import libraries here; add more as necessary\n",
    "import numpy as np\n",
    "import pandas as pd\n",
    "import matplotlib.pyplot as plt\n",
    "import seaborn as sns\n",
    "from ast import literal_eval\n",
    "import json\n",
    "from sklearn.preprocessing import OneHotEncoder\n",
    "from sklearn.preprocessing import StandardScaler\n",
    "from sklearn.decomposition import PCA\n",
    "from sklearn.cluster import KMeans\n",
    "# magic word for producing visualizations in notebook\n",
    "%matplotlib inline"
   ]
  },
  {
   "cell_type": "markdown",
   "metadata": {},
   "source": [
    "### Step 0: Load the Data\n",
    "\n",
    "There are four files associated with this project (not including this one):\n",
    "\n",
    "- `Udacity_AZDIAS_Subset.csv`: Demographics data for the general population of Germany; 891211 persons (rows) x 85 features (columns).\n",
    "- `Udacity_CUSTOMERS_Subset.csv`: Demographics data for customers of a mail-order company; 191652 persons (rows) x 85 features (columns).\n",
    "- `Data_Dictionary.md`: Detailed information file about the features in the provided datasets.\n",
    "- `AZDIAS_Feature_Summary.csv`: Summary of feature attributes for demographics data; 85 features (rows) x 4 columns\n",
    "\n",
    "Each row of the demographics files represents a single person, but also includes information outside of individuals, including information about their household, building, and neighborhood. You will use this information to cluster the general population into groups with similar demographic properties. Then, you will see how the people in the customers dataset fit into those created clusters. The hope here is that certain clusters are over-represented in the customers data, as compared to the general population; those over-represented clusters will be assumed to be part of the core userbase. This information can then be used for further applications, such as targeting for a marketing campaign.\n",
    "\n",
    "To start off with, load in the demographics data for the general population into a pandas DataFrame, and do the same for the feature attributes summary. Note for all of the `.csv` data files in this project: they're semicolon (`;`) delimited, so you'll need an additional argument in your [`read_csv()`](https://pandas.pydata.org/pandas-docs/stable/generated/pandas.read_csv.html) call to read in the data properly. Also, considering the size of the main dataset, it may take some time for it to load completely.\n",
    "\n",
    "Once the dataset is loaded, it's recommended that you take a little bit of time just browsing the general structure of the dataset and feature summary file. You'll be getting deep into the innards of the cleaning in the first major step of the project, so gaining some general familiarity can help you get your bearings."
   ]
  },
  {
   "cell_type": "code",
   "execution_count": 2,
   "metadata": {},
   "outputs": [],
   "source": [
    "# Load in the general demographics data.\n",
    "azdias = pd.read_csv('Udacity_AZDIAS_Subset.csv', delimiter = ';')\n",
    "\n",
    "# Load in the feature summary file.\n",
    "feat_info = pd.read_csv('AZDIAS_Feature_Summary.csv', delimiter = ';')"
   ]
  },
  {
   "cell_type": "code",
   "execution_count": 3,
   "metadata": {
    "scrolled": true
   },
   "outputs": [
    {
     "name": "stdout",
     "output_type": "stream",
     "text": [
      "size of general: (891221, 85)\n",
      "Quick view: \n",
      "    AGER_TYP  ALTERSKATEGORIE_GROB  ANREDE_KZ  CJT_GESAMTTYP  \\\n",
      "0        -1                     2          1            2.0   \n",
      "1        -1                     1          2            5.0   \n",
      "2        -1                     3          2            3.0   \n",
      "3         2                     4          2            2.0   \n",
      "4        -1                     3          1            5.0   \n",
      "\n",
      "   FINANZ_MINIMALIST  FINANZ_SPARER  FINANZ_VORSORGER  FINANZ_ANLEGER  \\\n",
      "0                  3              4                 3               5   \n",
      "1                  1              5                 2               5   \n",
      "2                  1              4                 1               2   \n",
      "3                  4              2                 5               2   \n",
      "4                  4              3                 4               1   \n",
      "\n",
      "   FINANZ_UNAUFFAELLIGER  FINANZ_HAUSBAUER    ...     PLZ8_ANTG1  PLZ8_ANTG2  \\\n",
      "0                      5                 3    ...            NaN         NaN   \n",
      "1                      4                 5    ...            2.0         3.0   \n",
      "2                      3                 5    ...            3.0         3.0   \n",
      "3                      1                 2    ...            2.0         2.0   \n",
      "4                      3                 2    ...            2.0         4.0   \n",
      "\n",
      "   PLZ8_ANTG3  PLZ8_ANTG4  PLZ8_BAUMAX  PLZ8_HHZ  PLZ8_GBZ  ARBEIT  \\\n",
      "0         NaN         NaN          NaN       NaN       NaN     NaN   \n",
      "1         2.0         1.0          1.0       5.0       4.0     3.0   \n",
      "2         1.0         0.0          1.0       4.0       4.0     3.0   \n",
      "3         2.0         0.0          1.0       3.0       4.0     2.0   \n",
      "4         2.0         1.0          2.0       3.0       3.0     4.0   \n",
      "\n",
      "   ORTSGR_KLS9  RELAT_AB  \n",
      "0          NaN       NaN  \n",
      "1          5.0       4.0  \n",
      "2          5.0       2.0  \n",
      "3          3.0       3.0  \n",
      "4          6.0       5.0  \n",
      "\n",
      "[5 rows x 85 columns]\n",
      "descirbe \n",
      "             AGER_TYP  ALTERSKATEGORIE_GROB      ANREDE_KZ  CJT_GESAMTTYP  \\\n",
      "count  891221.000000         891221.000000  891221.000000  886367.000000   \n",
      "mean       -0.358435              2.777398       1.522098       3.632838   \n",
      "std         1.198724              1.068775       0.499512       1.595021   \n",
      "min        -1.000000              1.000000       1.000000       1.000000   \n",
      "25%        -1.000000              2.000000       1.000000       2.000000   \n",
      "50%        -1.000000              3.000000       2.000000       4.000000   \n",
      "75%        -1.000000              4.000000       2.000000       5.000000   \n",
      "max         3.000000              9.000000       2.000000       6.000000   \n",
      "\n",
      "       FINANZ_MINIMALIST  FINANZ_SPARER  FINANZ_VORSORGER  FINANZ_ANLEGER  \\\n",
      "count      891221.000000  891221.000000     891221.000000   891221.000000   \n",
      "mean            3.074528       2.821039          3.401106        3.033328   \n",
      "std             1.321055       1.464749          1.322134        1.529603   \n",
      "min             1.000000       1.000000          1.000000        1.000000   \n",
      "25%             2.000000       1.000000          3.000000        2.000000   \n",
      "50%             3.000000       3.000000          3.000000        3.000000   \n",
      "75%             4.000000       4.000000          5.000000        5.000000   \n",
      "max             5.000000       5.000000          5.000000        5.000000   \n",
      "\n",
      "       FINANZ_UNAUFFAELLIGER  FINANZ_HAUSBAUER      ...          PLZ8_ANTG1  \\\n",
      "count          891221.000000     891221.000000      ...       774706.000000   \n",
      "mean                2.874167          3.075121      ...            2.253330   \n",
      "std                 1.486731          1.353248      ...            0.972008   \n",
      "min                 1.000000          1.000000      ...            0.000000   \n",
      "25%                 2.000000          2.000000      ...            1.000000   \n",
      "50%                 3.000000          3.000000      ...            2.000000   \n",
      "75%                 4.000000          4.000000      ...            3.000000   \n",
      "max                 5.000000          5.000000      ...            4.000000   \n",
      "\n",
      "          PLZ8_ANTG2     PLZ8_ANTG3     PLZ8_ANTG4    PLZ8_BAUMAX  \\\n",
      "count  774706.000000  774706.000000  774706.000000  774706.000000   \n",
      "mean        2.801858       1.595426       0.699166       1.943913   \n",
      "std         0.920309       0.986736       0.727137       1.459654   \n",
      "min         0.000000       0.000000       0.000000       1.000000   \n",
      "25%         2.000000       1.000000       0.000000       1.000000   \n",
      "50%         3.000000       2.000000       1.000000       1.000000   \n",
      "75%         3.000000       2.000000       1.000000       3.000000   \n",
      "max         4.000000       3.000000       2.000000       5.000000   \n",
      "\n",
      "            PLZ8_HHZ       PLZ8_GBZ         ARBEIT    ORTSGR_KLS9  \\\n",
      "count  774706.000000  774706.000000  794005.000000  794005.000000   \n",
      "mean        3.612821       3.381087       3.167854       5.293002   \n",
      "std         0.973967       1.111598       1.002376       2.303739   \n",
      "min         1.000000       1.000000       1.000000       0.000000   \n",
      "25%         3.000000       3.000000       3.000000       4.000000   \n",
      "50%         4.000000       3.000000       3.000000       5.000000   \n",
      "75%         4.000000       4.000000       4.000000       7.000000   \n",
      "max         5.000000       5.000000       9.000000       9.000000   \n",
      "\n",
      "           RELAT_AB  \n",
      "count  794005.00000  \n",
      "mean        3.07222  \n",
      "std         1.36298  \n",
      "min         1.00000  \n",
      "25%         2.00000  \n",
      "50%         3.00000  \n",
      "75%         4.00000  \n",
      "max         9.00000  \n",
      "\n",
      "[8 rows x 81 columns]\n",
      "<class 'pandas.core.frame.DataFrame'>\n",
      "RangeIndex: 891221 entries, 0 to 891220\n",
      "Data columns (total 85 columns):\n",
      "AGER_TYP                 891221 non-null int64\n",
      "ALTERSKATEGORIE_GROB     891221 non-null int64\n",
      "ANREDE_KZ                891221 non-null int64\n",
      "CJT_GESAMTTYP            886367 non-null float64\n",
      "FINANZ_MINIMALIST        891221 non-null int64\n",
      "FINANZ_SPARER            891221 non-null int64\n",
      "FINANZ_VORSORGER         891221 non-null int64\n",
      "FINANZ_ANLEGER           891221 non-null int64\n",
      "FINANZ_UNAUFFAELLIGER    891221 non-null int64\n",
      "FINANZ_HAUSBAUER         891221 non-null int64\n",
      "FINANZTYP                891221 non-null int64\n",
      "GEBURTSJAHR              891221 non-null int64\n",
      "GFK_URLAUBERTYP          886367 non-null float64\n",
      "GREEN_AVANTGARDE         891221 non-null int64\n",
      "HEALTH_TYP               891221 non-null int64\n",
      "LP_LEBENSPHASE_FEIN      886367 non-null float64\n",
      "LP_LEBENSPHASE_GROB      886367 non-null float64\n",
      "LP_FAMILIE_FEIN          886367 non-null float64\n",
      "LP_FAMILIE_GROB          886367 non-null float64\n",
      "LP_STATUS_FEIN           886367 non-null float64\n",
      "LP_STATUS_GROB           886367 non-null float64\n",
      "NATIONALITAET_KZ         891221 non-null int64\n",
      "PRAEGENDE_JUGENDJAHRE    891221 non-null int64\n",
      "RETOURTYP_BK_S           886367 non-null float64\n",
      "SEMIO_SOZ                891221 non-null int64\n",
      "SEMIO_FAM                891221 non-null int64\n",
      "SEMIO_REL                891221 non-null int64\n",
      "SEMIO_MAT                891221 non-null int64\n",
      "SEMIO_VERT               891221 non-null int64\n",
      "SEMIO_LUST               891221 non-null int64\n",
      "SEMIO_ERL                891221 non-null int64\n",
      "SEMIO_KULT               891221 non-null int64\n",
      "SEMIO_RAT                891221 non-null int64\n",
      "SEMIO_KRIT               891221 non-null int64\n",
      "SEMIO_DOM                891221 non-null int64\n",
      "SEMIO_KAEM               891221 non-null int64\n",
      "SEMIO_PFLICHT            891221 non-null int64\n",
      "SEMIO_TRADV              891221 non-null int64\n",
      "SHOPPER_TYP              891221 non-null int64\n",
      "SOHO_KZ                  817722 non-null float64\n",
      "TITEL_KZ                 817722 non-null float64\n",
      "VERS_TYP                 891221 non-null int64\n",
      "ZABEOTYP                 891221 non-null int64\n",
      "ALTER_HH                 817722 non-null float64\n",
      "ANZ_PERSONEN             817722 non-null float64\n",
      "ANZ_TITEL                817722 non-null float64\n",
      "HH_EINKOMMEN_SCORE       872873 non-null float64\n",
      "KK_KUNDENTYP             306609 non-null float64\n",
      "W_KEIT_KIND_HH           783619 non-null float64\n",
      "WOHNDAUER_2008           817722 non-null float64\n",
      "ANZ_HAUSHALTE_AKTIV      798073 non-null float64\n",
      "ANZ_HH_TITEL             794213 non-null float64\n",
      "GEBAEUDETYP              798073 non-null float64\n",
      "KONSUMNAEHE              817252 non-null float64\n",
      "MIN_GEBAEUDEJAHR         798073 non-null float64\n",
      "OST_WEST_KZ              798073 non-null object\n",
      "WOHNLAGE                 798073 non-null float64\n",
      "CAMEO_DEUG_2015          792242 non-null object\n",
      "CAMEO_DEU_2015           792242 non-null object\n",
      "CAMEO_INTL_2015          792242 non-null object\n",
      "KBA05_ANTG1              757897 non-null float64\n",
      "KBA05_ANTG2              757897 non-null float64\n",
      "KBA05_ANTG3              757897 non-null float64\n",
      "KBA05_ANTG4              757897 non-null float64\n",
      "KBA05_BAUMAX             757897 non-null float64\n",
      "KBA05_GBZ                757897 non-null float64\n",
      "BALLRAUM                 797481 non-null float64\n",
      "EWDICHTE                 797481 non-null float64\n",
      "INNENSTADT               797481 non-null float64\n",
      "GEBAEUDETYP_RASTER       798066 non-null float64\n",
      "KKK                      770025 non-null float64\n",
      "MOBI_REGIO               757897 non-null float64\n",
      "ONLINE_AFFINITAET        886367 non-null float64\n",
      "REGIOTYP                 770025 non-null float64\n",
      "KBA13_ANZAHL_PKW         785421 non-null float64\n",
      "PLZ8_ANTG1               774706 non-null float64\n",
      "PLZ8_ANTG2               774706 non-null float64\n",
      "PLZ8_ANTG3               774706 non-null float64\n",
      "PLZ8_ANTG4               774706 non-null float64\n",
      "PLZ8_BAUMAX              774706 non-null float64\n",
      "PLZ8_HHZ                 774706 non-null float64\n",
      "PLZ8_GBZ                 774706 non-null float64\n",
      "ARBEIT                   794005 non-null float64\n",
      "ORTSGR_KLS9              794005 non-null float64\n",
      "RELAT_AB                 794005 non-null float64\n",
      "dtypes: float64(49), int64(32), object(4)\n",
      "memory usage: 578.0+ MB\n",
      "info \n",
      " None\n"
     ]
    }
   ],
   "source": [
    "# Check the structure of the data after it's loaded (e.g. print the number of\n",
    "# rows and columns, print the first few rows).\n",
    "\n",
    "print('size of general:', azdias.shape)\n",
    "print('Quick view:','\\n', azdias.head())\n",
    "print('descirbe','\\n', azdias.describe())\n",
    "print('info','\\n', azdias.info())"
   ]
  },
  {
   "cell_type": "code",
   "execution_count": 4,
   "metadata": {
    "scrolled": true
   },
   "outputs": [
    {
     "data": {
      "text/html": [
       "<div>\n",
       "<style>\n",
       "    .dataframe thead tr:only-child th {\n",
       "        text-align: right;\n",
       "    }\n",
       "\n",
       "    .dataframe thead th {\n",
       "        text-align: left;\n",
       "    }\n",
       "\n",
       "    .dataframe tbody tr th {\n",
       "        vertical-align: top;\n",
       "    }\n",
       "</style>\n",
       "<table border=\"1\" class=\"dataframe\">\n",
       "  <thead>\n",
       "    <tr style=\"text-align: right;\">\n",
       "      <th></th>\n",
       "      <th>attribute</th>\n",
       "      <th>information_level</th>\n",
       "      <th>type</th>\n",
       "      <th>missing_or_unknown</th>\n",
       "    </tr>\n",
       "  </thead>\n",
       "  <tbody>\n",
       "    <tr>\n",
       "      <th>0</th>\n",
       "      <td>AGER_TYP</td>\n",
       "      <td>person</td>\n",
       "      <td>categorical</td>\n",
       "      <td>[-1,0]</td>\n",
       "    </tr>\n",
       "    <tr>\n",
       "      <th>1</th>\n",
       "      <td>ALTERSKATEGORIE_GROB</td>\n",
       "      <td>person</td>\n",
       "      <td>ordinal</td>\n",
       "      <td>[-1,0,9]</td>\n",
       "    </tr>\n",
       "    <tr>\n",
       "      <th>2</th>\n",
       "      <td>ANREDE_KZ</td>\n",
       "      <td>person</td>\n",
       "      <td>categorical</td>\n",
       "      <td>[-1,0]</td>\n",
       "    </tr>\n",
       "    <tr>\n",
       "      <th>3</th>\n",
       "      <td>CJT_GESAMTTYP</td>\n",
       "      <td>person</td>\n",
       "      <td>categorical</td>\n",
       "      <td>[0]</td>\n",
       "    </tr>\n",
       "    <tr>\n",
       "      <th>4</th>\n",
       "      <td>FINANZ_MINIMALIST</td>\n",
       "      <td>person</td>\n",
       "      <td>ordinal</td>\n",
       "      <td>[-1]</td>\n",
       "    </tr>\n",
       "    <tr>\n",
       "      <th>5</th>\n",
       "      <td>FINANZ_SPARER</td>\n",
       "      <td>person</td>\n",
       "      <td>ordinal</td>\n",
       "      <td>[-1]</td>\n",
       "    </tr>\n",
       "    <tr>\n",
       "      <th>6</th>\n",
       "      <td>FINANZ_VORSORGER</td>\n",
       "      <td>person</td>\n",
       "      <td>ordinal</td>\n",
       "      <td>[-1]</td>\n",
       "    </tr>\n",
       "    <tr>\n",
       "      <th>7</th>\n",
       "      <td>FINANZ_ANLEGER</td>\n",
       "      <td>person</td>\n",
       "      <td>ordinal</td>\n",
       "      <td>[-1]</td>\n",
       "    </tr>\n",
       "    <tr>\n",
       "      <th>8</th>\n",
       "      <td>FINANZ_UNAUFFAELLIGER</td>\n",
       "      <td>person</td>\n",
       "      <td>ordinal</td>\n",
       "      <td>[-1]</td>\n",
       "    </tr>\n",
       "    <tr>\n",
       "      <th>9</th>\n",
       "      <td>FINANZ_HAUSBAUER</td>\n",
       "      <td>person</td>\n",
       "      <td>ordinal</td>\n",
       "      <td>[-1]</td>\n",
       "    </tr>\n",
       "    <tr>\n",
       "      <th>10</th>\n",
       "      <td>FINANZTYP</td>\n",
       "      <td>person</td>\n",
       "      <td>categorical</td>\n",
       "      <td>[-1]</td>\n",
       "    </tr>\n",
       "    <tr>\n",
       "      <th>11</th>\n",
       "      <td>GEBURTSJAHR</td>\n",
       "      <td>person</td>\n",
       "      <td>numeric</td>\n",
       "      <td>[0]</td>\n",
       "    </tr>\n",
       "    <tr>\n",
       "      <th>12</th>\n",
       "      <td>GFK_URLAUBERTYP</td>\n",
       "      <td>person</td>\n",
       "      <td>categorical</td>\n",
       "      <td>[]</td>\n",
       "    </tr>\n",
       "    <tr>\n",
       "      <th>13</th>\n",
       "      <td>GREEN_AVANTGARDE</td>\n",
       "      <td>person</td>\n",
       "      <td>categorical</td>\n",
       "      <td>[]</td>\n",
       "    </tr>\n",
       "    <tr>\n",
       "      <th>14</th>\n",
       "      <td>HEALTH_TYP</td>\n",
       "      <td>person</td>\n",
       "      <td>ordinal</td>\n",
       "      <td>[-1,0]</td>\n",
       "    </tr>\n",
       "    <tr>\n",
       "      <th>15</th>\n",
       "      <td>LP_LEBENSPHASE_FEIN</td>\n",
       "      <td>person</td>\n",
       "      <td>mixed</td>\n",
       "      <td>[0]</td>\n",
       "    </tr>\n",
       "    <tr>\n",
       "      <th>16</th>\n",
       "      <td>LP_LEBENSPHASE_GROB</td>\n",
       "      <td>person</td>\n",
       "      <td>mixed</td>\n",
       "      <td>[0]</td>\n",
       "    </tr>\n",
       "    <tr>\n",
       "      <th>17</th>\n",
       "      <td>LP_FAMILIE_FEIN</td>\n",
       "      <td>person</td>\n",
       "      <td>categorical</td>\n",
       "      <td>[0]</td>\n",
       "    </tr>\n",
       "    <tr>\n",
       "      <th>18</th>\n",
       "      <td>LP_FAMILIE_GROB</td>\n",
       "      <td>person</td>\n",
       "      <td>categorical</td>\n",
       "      <td>[0]</td>\n",
       "    </tr>\n",
       "    <tr>\n",
       "      <th>19</th>\n",
       "      <td>LP_STATUS_FEIN</td>\n",
       "      <td>person</td>\n",
       "      <td>categorical</td>\n",
       "      <td>[0]</td>\n",
       "    </tr>\n",
       "    <tr>\n",
       "      <th>20</th>\n",
       "      <td>LP_STATUS_GROB</td>\n",
       "      <td>person</td>\n",
       "      <td>categorical</td>\n",
       "      <td>[0]</td>\n",
       "    </tr>\n",
       "    <tr>\n",
       "      <th>21</th>\n",
       "      <td>NATIONALITAET_KZ</td>\n",
       "      <td>person</td>\n",
       "      <td>categorical</td>\n",
       "      <td>[-1,0]</td>\n",
       "    </tr>\n",
       "    <tr>\n",
       "      <th>22</th>\n",
       "      <td>PRAEGENDE_JUGENDJAHRE</td>\n",
       "      <td>person</td>\n",
       "      <td>mixed</td>\n",
       "      <td>[-1,0]</td>\n",
       "    </tr>\n",
       "    <tr>\n",
       "      <th>23</th>\n",
       "      <td>RETOURTYP_BK_S</td>\n",
       "      <td>person</td>\n",
       "      <td>ordinal</td>\n",
       "      <td>[0]</td>\n",
       "    </tr>\n",
       "    <tr>\n",
       "      <th>24</th>\n",
       "      <td>SEMIO_SOZ</td>\n",
       "      <td>person</td>\n",
       "      <td>ordinal</td>\n",
       "      <td>[-1,9]</td>\n",
       "    </tr>\n",
       "    <tr>\n",
       "      <th>25</th>\n",
       "      <td>SEMIO_FAM</td>\n",
       "      <td>person</td>\n",
       "      <td>ordinal</td>\n",
       "      <td>[-1,9]</td>\n",
       "    </tr>\n",
       "    <tr>\n",
       "      <th>26</th>\n",
       "      <td>SEMIO_REL</td>\n",
       "      <td>person</td>\n",
       "      <td>ordinal</td>\n",
       "      <td>[-1,9]</td>\n",
       "    </tr>\n",
       "    <tr>\n",
       "      <th>27</th>\n",
       "      <td>SEMIO_MAT</td>\n",
       "      <td>person</td>\n",
       "      <td>ordinal</td>\n",
       "      <td>[-1,9]</td>\n",
       "    </tr>\n",
       "    <tr>\n",
       "      <th>28</th>\n",
       "      <td>SEMIO_VERT</td>\n",
       "      <td>person</td>\n",
       "      <td>ordinal</td>\n",
       "      <td>[-1,9]</td>\n",
       "    </tr>\n",
       "    <tr>\n",
       "      <th>29</th>\n",
       "      <td>SEMIO_LUST</td>\n",
       "      <td>person</td>\n",
       "      <td>ordinal</td>\n",
       "      <td>[-1,9]</td>\n",
       "    </tr>\n",
       "    <tr>\n",
       "      <th>...</th>\n",
       "      <td>...</td>\n",
       "      <td>...</td>\n",
       "      <td>...</td>\n",
       "      <td>...</td>\n",
       "    </tr>\n",
       "    <tr>\n",
       "      <th>55</th>\n",
       "      <td>OST_WEST_KZ</td>\n",
       "      <td>building</td>\n",
       "      <td>categorical</td>\n",
       "      <td>[-1]</td>\n",
       "    </tr>\n",
       "    <tr>\n",
       "      <th>56</th>\n",
       "      <td>WOHNLAGE</td>\n",
       "      <td>building</td>\n",
       "      <td>mixed</td>\n",
       "      <td>[-1]</td>\n",
       "    </tr>\n",
       "    <tr>\n",
       "      <th>57</th>\n",
       "      <td>CAMEO_DEUG_2015</td>\n",
       "      <td>microcell_rr4</td>\n",
       "      <td>categorical</td>\n",
       "      <td>[-1,X]</td>\n",
       "    </tr>\n",
       "    <tr>\n",
       "      <th>58</th>\n",
       "      <td>CAMEO_DEU_2015</td>\n",
       "      <td>microcell_rr4</td>\n",
       "      <td>categorical</td>\n",
       "      <td>[XX]</td>\n",
       "    </tr>\n",
       "    <tr>\n",
       "      <th>59</th>\n",
       "      <td>CAMEO_INTL_2015</td>\n",
       "      <td>microcell_rr4</td>\n",
       "      <td>mixed</td>\n",
       "      <td>[-1,XX]</td>\n",
       "    </tr>\n",
       "    <tr>\n",
       "      <th>60</th>\n",
       "      <td>KBA05_ANTG1</td>\n",
       "      <td>microcell_rr3</td>\n",
       "      <td>ordinal</td>\n",
       "      <td>[-1]</td>\n",
       "    </tr>\n",
       "    <tr>\n",
       "      <th>61</th>\n",
       "      <td>KBA05_ANTG2</td>\n",
       "      <td>microcell_rr3</td>\n",
       "      <td>ordinal</td>\n",
       "      <td>[-1]</td>\n",
       "    </tr>\n",
       "    <tr>\n",
       "      <th>62</th>\n",
       "      <td>KBA05_ANTG3</td>\n",
       "      <td>microcell_rr3</td>\n",
       "      <td>ordinal</td>\n",
       "      <td>[-1]</td>\n",
       "    </tr>\n",
       "    <tr>\n",
       "      <th>63</th>\n",
       "      <td>KBA05_ANTG4</td>\n",
       "      <td>microcell_rr3</td>\n",
       "      <td>ordinal</td>\n",
       "      <td>[-1]</td>\n",
       "    </tr>\n",
       "    <tr>\n",
       "      <th>64</th>\n",
       "      <td>KBA05_BAUMAX</td>\n",
       "      <td>microcell_rr3</td>\n",
       "      <td>mixed</td>\n",
       "      <td>[-1,0]</td>\n",
       "    </tr>\n",
       "    <tr>\n",
       "      <th>65</th>\n",
       "      <td>KBA05_GBZ</td>\n",
       "      <td>microcell_rr3</td>\n",
       "      <td>ordinal</td>\n",
       "      <td>[-1,0]</td>\n",
       "    </tr>\n",
       "    <tr>\n",
       "      <th>66</th>\n",
       "      <td>BALLRAUM</td>\n",
       "      <td>postcode</td>\n",
       "      <td>ordinal</td>\n",
       "      <td>[-1]</td>\n",
       "    </tr>\n",
       "    <tr>\n",
       "      <th>67</th>\n",
       "      <td>EWDICHTE</td>\n",
       "      <td>postcode</td>\n",
       "      <td>ordinal</td>\n",
       "      <td>[-1]</td>\n",
       "    </tr>\n",
       "    <tr>\n",
       "      <th>68</th>\n",
       "      <td>INNENSTADT</td>\n",
       "      <td>postcode</td>\n",
       "      <td>ordinal</td>\n",
       "      <td>[-1]</td>\n",
       "    </tr>\n",
       "    <tr>\n",
       "      <th>69</th>\n",
       "      <td>GEBAEUDETYP_RASTER</td>\n",
       "      <td>region_rr1</td>\n",
       "      <td>ordinal</td>\n",
       "      <td>[]</td>\n",
       "    </tr>\n",
       "    <tr>\n",
       "      <th>70</th>\n",
       "      <td>KKK</td>\n",
       "      <td>region_rr1</td>\n",
       "      <td>ordinal</td>\n",
       "      <td>[-1,0]</td>\n",
       "    </tr>\n",
       "    <tr>\n",
       "      <th>71</th>\n",
       "      <td>MOBI_REGIO</td>\n",
       "      <td>region_rr1</td>\n",
       "      <td>ordinal</td>\n",
       "      <td>[]</td>\n",
       "    </tr>\n",
       "    <tr>\n",
       "      <th>72</th>\n",
       "      <td>ONLINE_AFFINITAET</td>\n",
       "      <td>region_rr1</td>\n",
       "      <td>ordinal</td>\n",
       "      <td>[]</td>\n",
       "    </tr>\n",
       "    <tr>\n",
       "      <th>73</th>\n",
       "      <td>REGIOTYP</td>\n",
       "      <td>region_rr1</td>\n",
       "      <td>ordinal</td>\n",
       "      <td>[-1,0]</td>\n",
       "    </tr>\n",
       "    <tr>\n",
       "      <th>74</th>\n",
       "      <td>KBA13_ANZAHL_PKW</td>\n",
       "      <td>macrocell_plz8</td>\n",
       "      <td>numeric</td>\n",
       "      <td>[]</td>\n",
       "    </tr>\n",
       "    <tr>\n",
       "      <th>75</th>\n",
       "      <td>PLZ8_ANTG1</td>\n",
       "      <td>macrocell_plz8</td>\n",
       "      <td>ordinal</td>\n",
       "      <td>[-1]</td>\n",
       "    </tr>\n",
       "    <tr>\n",
       "      <th>76</th>\n",
       "      <td>PLZ8_ANTG2</td>\n",
       "      <td>macrocell_plz8</td>\n",
       "      <td>ordinal</td>\n",
       "      <td>[-1]</td>\n",
       "    </tr>\n",
       "    <tr>\n",
       "      <th>77</th>\n",
       "      <td>PLZ8_ANTG3</td>\n",
       "      <td>macrocell_plz8</td>\n",
       "      <td>ordinal</td>\n",
       "      <td>[-1]</td>\n",
       "    </tr>\n",
       "    <tr>\n",
       "      <th>78</th>\n",
       "      <td>PLZ8_ANTG4</td>\n",
       "      <td>macrocell_plz8</td>\n",
       "      <td>ordinal</td>\n",
       "      <td>[-1]</td>\n",
       "    </tr>\n",
       "    <tr>\n",
       "      <th>79</th>\n",
       "      <td>PLZ8_BAUMAX</td>\n",
       "      <td>macrocell_plz8</td>\n",
       "      <td>mixed</td>\n",
       "      <td>[-1,0]</td>\n",
       "    </tr>\n",
       "    <tr>\n",
       "      <th>80</th>\n",
       "      <td>PLZ8_HHZ</td>\n",
       "      <td>macrocell_plz8</td>\n",
       "      <td>ordinal</td>\n",
       "      <td>[-1]</td>\n",
       "    </tr>\n",
       "    <tr>\n",
       "      <th>81</th>\n",
       "      <td>PLZ8_GBZ</td>\n",
       "      <td>macrocell_plz8</td>\n",
       "      <td>ordinal</td>\n",
       "      <td>[-1]</td>\n",
       "    </tr>\n",
       "    <tr>\n",
       "      <th>82</th>\n",
       "      <td>ARBEIT</td>\n",
       "      <td>community</td>\n",
       "      <td>ordinal</td>\n",
       "      <td>[-1,9]</td>\n",
       "    </tr>\n",
       "    <tr>\n",
       "      <th>83</th>\n",
       "      <td>ORTSGR_KLS9</td>\n",
       "      <td>community</td>\n",
       "      <td>ordinal</td>\n",
       "      <td>[-1,0]</td>\n",
       "    </tr>\n",
       "    <tr>\n",
       "      <th>84</th>\n",
       "      <td>RELAT_AB</td>\n",
       "      <td>community</td>\n",
       "      <td>ordinal</td>\n",
       "      <td>[-1,9]</td>\n",
       "    </tr>\n",
       "  </tbody>\n",
       "</table>\n",
       "<p>85 rows × 4 columns</p>\n",
       "</div>"
      ],
      "text/plain": [
       "                attribute information_level         type missing_or_unknown\n",
       "0                AGER_TYP            person  categorical             [-1,0]\n",
       "1    ALTERSKATEGORIE_GROB            person      ordinal           [-1,0,9]\n",
       "2               ANREDE_KZ            person  categorical             [-1,0]\n",
       "3           CJT_GESAMTTYP            person  categorical                [0]\n",
       "4       FINANZ_MINIMALIST            person      ordinal               [-1]\n",
       "5           FINANZ_SPARER            person      ordinal               [-1]\n",
       "6        FINANZ_VORSORGER            person      ordinal               [-1]\n",
       "7          FINANZ_ANLEGER            person      ordinal               [-1]\n",
       "8   FINANZ_UNAUFFAELLIGER            person      ordinal               [-1]\n",
       "9        FINANZ_HAUSBAUER            person      ordinal               [-1]\n",
       "10              FINANZTYP            person  categorical               [-1]\n",
       "11            GEBURTSJAHR            person      numeric                [0]\n",
       "12        GFK_URLAUBERTYP            person  categorical                 []\n",
       "13       GREEN_AVANTGARDE            person  categorical                 []\n",
       "14             HEALTH_TYP            person      ordinal             [-1,0]\n",
       "15    LP_LEBENSPHASE_FEIN            person        mixed                [0]\n",
       "16    LP_LEBENSPHASE_GROB            person        mixed                [0]\n",
       "17        LP_FAMILIE_FEIN            person  categorical                [0]\n",
       "18        LP_FAMILIE_GROB            person  categorical                [0]\n",
       "19         LP_STATUS_FEIN            person  categorical                [0]\n",
       "20         LP_STATUS_GROB            person  categorical                [0]\n",
       "21       NATIONALITAET_KZ            person  categorical             [-1,0]\n",
       "22  PRAEGENDE_JUGENDJAHRE            person        mixed             [-1,0]\n",
       "23         RETOURTYP_BK_S            person      ordinal                [0]\n",
       "24              SEMIO_SOZ            person      ordinal             [-1,9]\n",
       "25              SEMIO_FAM            person      ordinal             [-1,9]\n",
       "26              SEMIO_REL            person      ordinal             [-1,9]\n",
       "27              SEMIO_MAT            person      ordinal             [-1,9]\n",
       "28             SEMIO_VERT            person      ordinal             [-1,9]\n",
       "29             SEMIO_LUST            person      ordinal             [-1,9]\n",
       "..                    ...               ...          ...                ...\n",
       "55            OST_WEST_KZ          building  categorical               [-1]\n",
       "56               WOHNLAGE          building        mixed               [-1]\n",
       "57        CAMEO_DEUG_2015     microcell_rr4  categorical             [-1,X]\n",
       "58         CAMEO_DEU_2015     microcell_rr4  categorical               [XX]\n",
       "59        CAMEO_INTL_2015     microcell_rr4        mixed            [-1,XX]\n",
       "60            KBA05_ANTG1     microcell_rr3      ordinal               [-1]\n",
       "61            KBA05_ANTG2     microcell_rr3      ordinal               [-1]\n",
       "62            KBA05_ANTG3     microcell_rr3      ordinal               [-1]\n",
       "63            KBA05_ANTG4     microcell_rr3      ordinal               [-1]\n",
       "64           KBA05_BAUMAX     microcell_rr3        mixed             [-1,0]\n",
       "65              KBA05_GBZ     microcell_rr3      ordinal             [-1,0]\n",
       "66               BALLRAUM          postcode      ordinal               [-1]\n",
       "67               EWDICHTE          postcode      ordinal               [-1]\n",
       "68             INNENSTADT          postcode      ordinal               [-1]\n",
       "69     GEBAEUDETYP_RASTER        region_rr1      ordinal                 []\n",
       "70                    KKK        region_rr1      ordinal             [-1,0]\n",
       "71             MOBI_REGIO        region_rr1      ordinal                 []\n",
       "72      ONLINE_AFFINITAET        region_rr1      ordinal                 []\n",
       "73               REGIOTYP        region_rr1      ordinal             [-1,0]\n",
       "74       KBA13_ANZAHL_PKW    macrocell_plz8      numeric                 []\n",
       "75             PLZ8_ANTG1    macrocell_plz8      ordinal               [-1]\n",
       "76             PLZ8_ANTG2    macrocell_plz8      ordinal               [-1]\n",
       "77             PLZ8_ANTG3    macrocell_plz8      ordinal               [-1]\n",
       "78             PLZ8_ANTG4    macrocell_plz8      ordinal               [-1]\n",
       "79            PLZ8_BAUMAX    macrocell_plz8        mixed             [-1,0]\n",
       "80               PLZ8_HHZ    macrocell_plz8      ordinal               [-1]\n",
       "81               PLZ8_GBZ    macrocell_plz8      ordinal               [-1]\n",
       "82                 ARBEIT         community      ordinal             [-1,9]\n",
       "83            ORTSGR_KLS9         community      ordinal             [-1,0]\n",
       "84               RELAT_AB         community      ordinal             [-1,9]\n",
       "\n",
       "[85 rows x 4 columns]"
      ]
     },
     "execution_count": 4,
     "metadata": {},
     "output_type": "execute_result"
    }
   ],
   "source": [
    "feat_info"
   ]
  },
  {
   "cell_type": "code",
   "execution_count": 5,
   "metadata": {},
   "outputs": [
    {
     "data": {
      "text/html": [
       "<div>\n",
       "<style>\n",
       "    .dataframe thead tr:only-child th {\n",
       "        text-align: right;\n",
       "    }\n",
       "\n",
       "    .dataframe thead th {\n",
       "        text-align: left;\n",
       "    }\n",
       "\n",
       "    .dataframe tbody tr th {\n",
       "        vertical-align: top;\n",
       "    }\n",
       "</style>\n",
       "<table border=\"1\" class=\"dataframe\">\n",
       "  <thead>\n",
       "    <tr style=\"text-align: right;\">\n",
       "      <th></th>\n",
       "      <th>attribute</th>\n",
       "      <th>information_level</th>\n",
       "      <th>type</th>\n",
       "      <th>missing_or_unknown</th>\n",
       "    </tr>\n",
       "  </thead>\n",
       "  <tbody>\n",
       "    <tr>\n",
       "      <th>count</th>\n",
       "      <td>85</td>\n",
       "      <td>85</td>\n",
       "      <td>85</td>\n",
       "      <td>85</td>\n",
       "    </tr>\n",
       "    <tr>\n",
       "      <th>unique</th>\n",
       "      <td>85</td>\n",
       "      <td>9</td>\n",
       "      <td>5</td>\n",
       "      <td>9</td>\n",
       "    </tr>\n",
       "    <tr>\n",
       "      <th>top</th>\n",
       "      <td>LP_FAMILIE_FEIN</td>\n",
       "      <td>person</td>\n",
       "      <td>ordinal</td>\n",
       "      <td>[-1]</td>\n",
       "    </tr>\n",
       "    <tr>\n",
       "      <th>freq</th>\n",
       "      <td>1</td>\n",
       "      <td>43</td>\n",
       "      <td>49</td>\n",
       "      <td>26</td>\n",
       "    </tr>\n",
       "  </tbody>\n",
       "</table>\n",
       "</div>"
      ],
      "text/plain": [
       "              attribute information_level     type missing_or_unknown\n",
       "count                85                85       85                 85\n",
       "unique               85                 9        5                  9\n",
       "top     LP_FAMILIE_FEIN            person  ordinal               [-1]\n",
       "freq                  1                43       49                 26"
      ]
     },
     "execution_count": 5,
     "metadata": {},
     "output_type": "execute_result"
    }
   ],
   "source": [
    "feat_info.describe()"
   ]
  },
  {
   "cell_type": "markdown",
   "metadata": {},
   "source": [
    "> **Tip**: Add additional cells to keep everything in reasonably-sized chunks! Keyboard shortcut `esc --> a` (press escape to enter command mode, then press the 'A' key) adds a new cell before the active cell, and `esc --> b` adds a new cell after the active cell. If you need to convert an active cell to a markdown cell, use `esc --> m` and to convert to a code cell, use `esc --> y`. \n",
    "\n",
    "## Step 1: Preprocessing\n",
    "\n",
    "### Step 1.1: Assess Missing Data\n",
    "\n",
    "The feature summary file contains a summary of properties for each demographics data column. You will use this file to help you make cleaning decisions during this stage of the project. First of all, you should assess the demographics data in terms of missing data. Pay attention to the following points as you perform your analysis, and take notes on what you observe. Make sure that you fill in the **Discussion** cell with your findings and decisions at the end of each step that has one!\n",
    "\n",
    "#### Step 1.1.1: Convert Missing Value Codes to NaNs\n",
    "The fourth column of the feature attributes summary (loaded in above as `feat_info`) documents the codes from the data dictionary that indicate missing or unknown data. While the file encodes this as a list (e.g. `[-1,0]`), this will get read in as a string object. You'll need to do a little bit of parsing to make use of it to identify and clean the data. Convert data that matches a 'missing' or 'unknown' value code into a numpy NaN value. You might want to see how much data takes on a 'missing' or 'unknown' code, and how much data is naturally missing, as a point of interest.\n",
    "\n",
    "**As one more reminder, you are encouraged to add additional cells to break up your analysis into manageable chunks.**"
   ]
  },
  {
   "cell_type": "code",
   "execution_count": 6,
   "metadata": {
    "scrolled": true
   },
   "outputs": [],
   "source": [
    "# Identify missing or unknown data values and convert them to NaNs."
   ]
  },
  {
   "cell_type": "code",
   "execution_count": 7,
   "metadata": {},
   "outputs": [
    {
     "data": {
      "text/plain": [
       "4896838"
      ]
     },
     "execution_count": 7,
     "metadata": {},
     "output_type": "execute_result"
    }
   ],
   "source": [
    "# Before total number of NaN\n",
    "azdias.isnull().sum().sum()"
   ]
  },
  {
   "cell_type": "code",
   "execution_count": 8,
   "metadata": {},
   "outputs": [],
   "source": [
    "# replace like [X], [XX] values with ['X'], ['XX'] \n",
    "unknown = feat_info['missing_or_unknown'].copy()\n",
    "unknown[57] = unknown[57].replace('X', '\"X\"')\n",
    "unknown[58] = unknown[58].replace('XX', '\"XX\"')\n",
    "unknown[59] = unknown[59].replace('XX', '\"XX\"')\n",
    "unknown.replace('[]', '[\"blank\"]', inplace = True)"
   ]
  },
  {
   "cell_type": "code",
   "execution_count": 9,
   "metadata": {
    "scrolled": true
   },
   "outputs": [],
   "source": [
    "# convert unknowns to NaNs\n",
    "general = azdias.copy()\n",
    "for i in range(general.shape[1]):\n",
    "    general.iloc[:, i].replace(literal_eval(unknown[i]), np.nan, inplace = True)"
   ]
  },
  {
   "cell_type": "code",
   "execution_count": 10,
   "metadata": {},
   "outputs": [
    {
     "data": {
      "text/plain": [
       "8373929"
      ]
     },
     "execution_count": 10,
     "metadata": {},
     "output_type": "execute_result"
    }
   ],
   "source": [
    "# After total nunmber of NaN\n",
    "general.isnull().sum().sum()"
   ]
  },
  {
   "cell_type": "markdown",
   "metadata": {},
   "source": [
    "#### Step 1.1.2: Assess Missing Data in Each Column\n",
    "\n",
    "How much missing data is present in each column? There are a few columns that are outliers in terms of the proportion of values that are missing. You will want to use matplotlib's [`hist()`](https://matplotlib.org/api/_as_gen/matplotlib.pyplot.hist.html) function to visualize the distribution of missing value counts to find these columns. Identify and document these columns. While some of these columns might have justifications for keeping or re-encoding the data, for this project you should just remove them from the dataframe. (Feel free to make remarks about these outlier columns in the discussion, however!)\n",
    "\n",
    "For the remaining features, are there any patterns in which columns have, or share, missing data?"
   ]
  },
  {
   "cell_type": "code",
   "execution_count": 11,
   "metadata": {
    "scrolled": true
   },
   "outputs": [
    {
     "data": {
      "text/plain": [
       "AGER_TYP                 685843\n",
       "ALTERSKATEGORIE_GROB       2881\n",
       "ANREDE_KZ                     0\n",
       "CJT_GESAMTTYP              4854\n",
       "FINANZ_MINIMALIST             0\n",
       "FINANZ_SPARER                 0\n",
       "FINANZ_VORSORGER              0\n",
       "FINANZ_ANLEGER                0\n",
       "FINANZ_UNAUFFAELLIGER         0\n",
       "FINANZ_HAUSBAUER              0\n",
       "FINANZTYP                     0\n",
       "GEBURTSJAHR              392318\n",
       "GFK_URLAUBERTYP            4854\n",
       "GREEN_AVANTGARDE              0\n",
       "HEALTH_TYP               111196\n",
       "LP_LEBENSPHASE_FEIN       97632\n",
       "LP_LEBENSPHASE_GROB       94572\n",
       "LP_FAMILIE_FEIN           77792\n",
       "LP_FAMILIE_GROB           77792\n",
       "LP_STATUS_FEIN             4854\n",
       "LP_STATUS_GROB             4854\n",
       "NATIONALITAET_KZ         108315\n",
       "PRAEGENDE_JUGENDJAHRE    108164\n",
       "RETOURTYP_BK_S             4854\n",
       "SEMIO_SOZ                     0\n",
       "SEMIO_FAM                     0\n",
       "SEMIO_REL                     0\n",
       "SEMIO_MAT                     0\n",
       "SEMIO_VERT                    0\n",
       "SEMIO_LUST                    0\n",
       "                          ...  \n",
       "OST_WEST_KZ               93148\n",
       "WOHNLAGE                  93148\n",
       "CAMEO_DEUG_2015           99352\n",
       "CAMEO_DEU_2015            99352\n",
       "CAMEO_INTL_2015           99352\n",
       "KBA05_ANTG1              133324\n",
       "KBA05_ANTG2              133324\n",
       "KBA05_ANTG3              133324\n",
       "KBA05_ANTG4              133324\n",
       "KBA05_BAUMAX             476524\n",
       "KBA05_GBZ                133324\n",
       "BALLRAUM                  93740\n",
       "EWDICHTE                  93740\n",
       "INNENSTADT                93740\n",
       "GEBAEUDETYP_RASTER        93155\n",
       "KKK                      158064\n",
       "MOBI_REGIO               133324\n",
       "ONLINE_AFFINITAET          4854\n",
       "REGIOTYP                 158064\n",
       "KBA13_ANZAHL_PKW         105800\n",
       "PLZ8_ANTG1               116515\n",
       "PLZ8_ANTG2               116515\n",
       "PLZ8_ANTG3               116515\n",
       "PLZ8_ANTG4               116515\n",
       "PLZ8_BAUMAX              116515\n",
       "PLZ8_HHZ                 116515\n",
       "PLZ8_GBZ                 116515\n",
       "ARBEIT                    97375\n",
       "ORTSGR_KLS9               97274\n",
       "RELAT_AB                  97375\n",
       "Length: 85, dtype: int64"
      ]
     },
     "execution_count": 11,
     "metadata": {},
     "output_type": "execute_result"
    }
   ],
   "source": [
    "# Perform an assessment of how much missing data there is in each column of the\n",
    "# dataset.\n",
    "missing_column = general.isnull().sum()\n",
    "missing_column"
   ]
  },
  {
   "cell_type": "code",
   "execution_count": 12,
   "metadata": {
    "scrolled": true
   },
   "outputs": [
    {
     "data": {
      "text/plain": [
       "0         24\n",
       "116515     7\n",
       "4854       6\n",
       "133324     6\n",
       "93148      4\n",
       "73499      4\n",
       "111196     3\n",
       "99352      3\n",
       "93740      3\n",
       "97375      2\n",
       "77792      2\n",
       "158064     2\n",
       "93155      1\n",
       "584612     1\n",
       "108164     1\n",
       "685843     1\n",
       "147988     1\n",
       "99611      1\n",
       "97274      1\n",
       "108315     1\n",
       "73969      1\n",
       "18348      1\n",
       "97632      1\n",
       "476524     1\n",
       "2881       1\n",
       "105800     1\n",
       "97008      1\n",
       "310267     1\n",
       "94572      1\n",
       "889061     1\n",
       "392318     1\n",
       "dtype: int64"
      ]
     },
     "execution_count": 12,
     "metadata": {},
     "output_type": "execute_result"
    }
   ],
   "source": [
    "missing_column.value_counts()"
   ]
  },
  {
   "cell_type": "code",
   "execution_count": 13,
   "metadata": {
    "scrolled": true
   },
   "outputs": [
    {
     "data": {
      "image/png": "[encoded data removed]",
      "text/plain": [
       "<matplotlib.figure.Figure at 0x7fa5d8f37da0>"
      ]
     },
     "metadata": {
      "needs_background": "light"
     },
     "output_type": "display_data"
    }
   ],
   "source": [
    "# Investigate patterns in the amount of missing data in each column.\n",
    "max_data = missing_column.value_counts().index.max()\n",
    "bins = np.arange(0, max_data + 40000, 40000)\n",
    "plt.hist(x = missing_column.values, bins = bins);"
   ]
  },
  {
   "cell_type": "code",
   "execution_count": 14,
   "metadata": {},
   "outputs": [
    {
     "data": {
      "text/plain": [
       "AGER_TYP        685843\n",
       "GEBURTSJAHR     392318\n",
       "TITEL_KZ        889061\n",
       "ALTER_HH        310267\n",
       "KK_KUNDENTYP    584612\n",
       "KBA05_BAUMAX    476524\n",
       "dtype: int64"
      ]
     },
     "execution_count": 14,
     "metadata": {},
     "output_type": "execute_result"
    }
   ],
   "source": [
    "# columns over 300000 missing values\n",
    "missing_column[missing_column > 300000]"
   ]
  },
  {
   "cell_type": "code",
   "execution_count": 15,
   "metadata": {},
   "outputs": [],
   "source": [
    "# Remove the outlier columns from the dataset. (You'll perform other data\n",
    "# engineering tasks such as re-encoding and imputation later.)\n",
    "\n",
    "people = general.drop(missing_column[missing_column > 300000].index, axis = 1)"
   ]
  },
  {
   "cell_type": "code",
   "execution_count": 16,
   "metadata": {},
   "outputs": [
    {
     "data": {
      "text/plain": [
       "(79,)"
      ]
     },
     "execution_count": 16,
     "metadata": {},
     "output_type": "execute_result"
    }
   ],
   "source": [
    "people.columns.shape"
   ]
  },
  {
   "cell_type": "code",
   "execution_count": 17,
   "metadata": {
    "scrolled": true
   },
   "outputs": [
    {
     "data": {
      "image/png": "[encoded data removed]",
      "text/plain": [
       "<matplotlib.figure.Figure at 0x7fa5d8e66550>"
      ]
     },
     "metadata": {
      "needs_background": "light"
     },
     "output_type": "display_data"
    }
   ],
   "source": [
    "max_data = people.isnull().sum().values.max()\n",
    "bins = np.arange(1, max_data + 10000, 10000)\n",
    "\n",
    "plt.hist(people.isnull().sum().values, bins = bins);"
   ]
  },
  {
   "cell_type": "markdown",
   "metadata": {},
   "source": [
    "#### Discussion 1.1.2: Assess Missing Data in Each Column\n",
    "\n",
    "61 columns have missing values. Most of the columns have missing values less than 160000. And only 6 columns have missing values more than 300000. Over 300000 means at least about 1/3 of records have no information. And in the histogram, they look like far from the main area, so I remove them from the analysis. \n",
    "\n",
    "AGER_TYP - This column only focuses on the elderly and about 680000 records are classified as missing values.\n",
    "\n",
    "GEBURTSJAHR - This column is about the year of birth and about 390000 records are classified as missing values.\n",
    "\n",
    "TITEL_KZ - This column is about a person's academic level, but only focuses on more than Dr level. And almost all of the records are classified as missing values.  \n",
    "\n",
    "ALTER_HH - This column is about a birthdate of head of household and about 310000 records are classified as missing values.\n",
    "\n",
    "KK_KUNDENTYP - This column is about the consumer pattern over the past 12 months and about 580000 records are classified as missing values.\n",
    "\n",
    "KBA05_BAUMAX - This column is about a number of 1-2 family houses in the microcell and about 470000 records are classified as missing values.\n",
    "\n",
    "After removing them, missing numbers of columns are similar with Gaussian distribution if we exclude 0 missing columns."
   ]
  },
  {
   "cell_type": "markdown",
   "metadata": {},
   "source": [
    "#### Step 1.1.3: Assess Missing Data in Each Row\n",
    "\n",
    "Now, you'll perform a similar assessment for the rows of the dataset. How much data is missing in each row? As with the columns, you should see some groups of points that have a very different numbers of missing values. Divide the data into two subsets: one for data points that are above some threshold for missing values, and a second subset for points below that threshold.\n",
    "\n",
    "In order to know what to do with the outlier rows, we should see if the distribution of data values on columns that are not missing data (or are missing very little data) are similar or different between the two groups. Select at least five of these columns and compare the distribution of values.\n",
    "- You can use seaborn's [`countplot()`](https://seaborn.pydata.org/generated/seaborn.countplot.html) function to create a bar chart of code frequencies and matplotlib's [`subplot()`](https://matplotlib.org/api/_as_gen/matplotlib.pyplot.subplot.html) function to put bar charts for the two subplots side by side.\n",
    "- To reduce repeated code, you might want to write a function that can perform this comparison, taking as one of its arguments a column to be compared.\n",
    "\n",
    "Depending on what you observe in your comparison, this will have implications on how you approach your conclusions later in the analysis. If the distributions of non-missing features look similar between the data with many missing values and the data with few or no missing values, then we could argue that simply dropping those points from the analysis won't present a major issue. On the other hand, if the data with many missing values looks very different from the data with few or no missing values, then we should make a note on those data as special. We'll revisit these data later on. **Either way, you should continue your analysis for now using just the subset of the data with few or no missing values.**"
   ]
  },
  {
   "cell_type": "code",
   "execution_count": 18,
   "metadata": {
    "scrolled": true
   },
   "outputs": [
    {
     "data": {
      "text/plain": [
       "0     623209\n",
       "47     45578\n",
       "2      27926\n",
       "43     27369\n",
       "8      24592\n",
       "5      22515\n",
       "3      17629\n",
       "1      15738\n",
       "6      13771\n",
       "7      13714\n",
       "4      12607\n",
       "34     10816\n",
       "10      5410\n",
       "15      4743\n",
       "35      3911\n",
       "13      3255\n",
       "9       3042\n",
       "33      2985\n",
       "16      2505\n",
       "14      2243\n",
       "19      1180\n",
       "11      1127\n",
       "12       766\n",
       "17       677\n",
       "37       538\n",
       "45       494\n",
       "18       428\n",
       "38       421\n",
       "41       356\n",
       "20       349\n",
       "32       206\n",
       "44       155\n",
       "21       150\n",
       "40       137\n",
       "23       132\n",
       "22       129\n",
       "36        84\n",
       "39        77\n",
       "24        69\n",
       "26        59\n",
       "25        55\n",
       "27        24\n",
       "42        21\n",
       "29        12\n",
       "30         6\n",
       "28         5\n",
       "31         3\n",
       "49         2\n",
       "48         1\n",
       "dtype: int64"
      ]
     },
     "execution_count": 18,
     "metadata": {},
     "output_type": "execute_result"
    }
   ],
   "source": [
    "# How much data is missing in each row of the dataset?\n",
    "missing_row = people.isnull().sum(axis = 1)\n",
    "missing_row.value_counts()"
   ]
  },
  {
   "cell_type": "code",
   "execution_count": 19,
   "metadata": {
    "scrolled": true
   },
   "outputs": [
    {
     "data": {
      "image/png": "[encoded data removed]",
      "text/plain": [
       "<matplotlib.figure.Figure at 0x7fa5cea7bef0>"
      ]
     },
     "metadata": {
      "needs_background": "light"
     },
     "output_type": "display_data"
    }
   ],
   "source": [
    "# detailed histogram about missing_row\n",
    "plt.figure(figsize = [10, 10])\n",
    "color = sns.color_palette()[0]\n",
    "sns.countplot(missing_row.values, color = color);"
   ]
  },
  {
   "cell_type": "code",
   "execution_count": 20,
   "metadata": {},
   "outputs": [],
   "source": [
    "# Divide the data into two subsets\n",
    "few_miss_index = list(missing_row[missing_row.values < 6].index)\n",
    "high_miss_index = list(missing_row[missing_row.values >= 6].index)\n",
    "\n",
    "subset1_few = people.iloc[few_miss_index]\n",
    "subset2_high = people.iloc[high_miss_index]"
   ]
  },
  {
   "cell_type": "code",
   "execution_count": 21,
   "metadata": {},
   "outputs": [
    {
     "name": "stdout",
     "output_type": "stream",
     "text": [
      "['ANREDE_KZ', 'FINANZ_MINIMALIST', 'FINANZ_SPARER', 'FINANZ_VORSORGER', 'FINANZ_ANLEGER', 'FINANZ_UNAUFFAELLIGER', 'FINANZ_HAUSBAUER', 'FINANZTYP', 'GREEN_AVANTGARDE', 'SEMIO_SOZ', 'SEMIO_FAM', 'SEMIO_REL', 'SEMIO_MAT', 'SEMIO_VERT', 'SEMIO_LUST', 'SEMIO_ERL', 'SEMIO_KULT', 'SEMIO_RAT', 'SEMIO_KRIT', 'SEMIO_DOM', 'SEMIO_KAEM', 'SEMIO_PFLICHT', 'SEMIO_TRADV', 'ZABEOTYP']\n"
     ]
    }
   ],
   "source": [
    "# check process for no_miss_column\n",
    "no_miss_column = list(missing_column[missing_column.values == 0].index)\n",
    "\n",
    "ex1, ex2, ex3, ex4, ex5, ex6, ex7 = \\\n",
    "    no_miss_column[0], no_miss_column[1], no_miss_column[2], no_miss_column[8], no_miss_column[9], no_miss_column[10], no_miss_column[23]\n",
    "\n",
    "print(no_miss_column)"
   ]
  },
  {
   "cell_type": "code",
   "execution_count": 22,
   "metadata": {},
   "outputs": [],
   "source": [
    "# function for compare the distribution of values\n",
    "def check(ex):\n",
    "    plt.figure(figsize = [12, 6])\n",
    "    plt.subplot(1, 2, 1)\n",
    "    sns.countplot(x = subset1_few.loc[:, ex], color = color)\n",
    "\n",
    "    plt.subplot(1, 2, 2)\n",
    "    sns.countplot(x = subset2_high.loc[:, ex], color = color);\n",
    "    \n",
    "    col_type = feat_info[feat_info['attribute'] == ex]['type']\n",
    "    return col_type"
   ]
  },
  {
   "cell_type": "code",
   "execution_count": 23,
   "metadata": {},
   "outputs": [
    {
     "data": {
      "text/plain": [
       "2    categorical\n",
       "Name: type, dtype: object"
      ]
     },
     "execution_count": 23,
     "metadata": {},
     "output_type": "execute_result"
    },
    {
     "data": {
      "image/png": "[encoded data removed]",
      "text/plain": [
       "<matplotlib.figure.Figure at 0x7fa5cea58518>"
      ]
     },
     "metadata": {
      "needs_background": "light"
     },
     "output_type": "display_data"
    }
   ],
   "source": [
    "# ex1 = ANREDE_KZ\n",
    "check(ex1)"
   ]
  },
  {
   "cell_type": "code",
   "execution_count": 24,
   "metadata": {},
   "outputs": [
    {
     "data": {
      "text/plain": [
       "4    ordinal\n",
       "Name: type, dtype: object"
      ]
     },
     "execution_count": 24,
     "metadata": {},
     "output_type": "execute_result"
    },
    {
     "data": {
      "image/png": "[encoded data removed]",
      "text/plain": [
       "<matplotlib.figure.Figure at 0x7fa5c4feb710>"
      ]
     },
     "metadata": {
      "needs_background": "light"
     },
     "output_type": "display_data"
    }
   ],
   "source": [
    "# ex2 = FINANZ_MINIMALIST \n",
    "check(ex2)"
   ]
  },
  {
   "cell_type": "code",
   "execution_count": 25,
   "metadata": {},
   "outputs": [
    {
     "data": {
      "text/plain": [
       "5    ordinal\n",
       "Name: type, dtype: object"
      ]
     },
     "execution_count": 25,
     "metadata": {},
     "output_type": "execute_result"
    },
    {
     "data": {
      "image/png": "[encoded data removed]",
      "text/plain": [
       "<matplotlib.figure.Figure at 0x7fa5c4f62048>"
      ]
     },
     "metadata": {
      "needs_background": "light"
     },
     "output_type": "display_data"
    }
   ],
   "source": [
    "# ex3 = FINANZ_SPARER \n",
    "check(ex3)"
   ]
  },
  {
   "cell_type": "code",
   "execution_count": 26,
   "metadata": {},
   "outputs": [
    {
     "data": {
      "text/plain": [
       "13    categorical\n",
       "Name: type, dtype: object"
      ]
     },
     "execution_count": 26,
     "metadata": {},
     "output_type": "execute_result"
    },
    {
     "data": {
      "image/png": "[encoded data removed]",
      "text/plain": [
       "<matplotlib.figure.Figure at 0x7fa5c4f12320>"
      ]
     },
     "metadata": {
      "needs_background": "light"
     },
     "output_type": "display_data"
    }
   ],
   "source": [
    "# ex4 = GREEN_AVANTGARDE\n",
    "check(ex4)"
   ]
  },
  {
   "cell_type": "code",
   "execution_count": 27,
   "metadata": {},
   "outputs": [
    {
     "data": {
      "text/plain": [
       "24    ordinal\n",
       "Name: type, dtype: object"
      ]
     },
     "execution_count": 27,
     "metadata": {},
     "output_type": "execute_result"
    },
    {
     "data": {
      "image/png": "[encoded data removed]",
      "text/plain": [
       "<matplotlib.figure.Figure at 0x7fa5c4e43400>"
      ]
     },
     "metadata": {
      "needs_background": "light"
     },
     "output_type": "display_data"
    }
   ],
   "source": [
    "# ex5 = SEMIO_SOZ\n",
    "check(ex5)"
   ]
  },
  {
   "cell_type": "code",
   "execution_count": 28,
   "metadata": {},
   "outputs": [
    {
     "data": {
      "text/plain": [
       "25    ordinal\n",
       "Name: type, dtype: object"
      ]
     },
     "execution_count": 28,
     "metadata": {},
     "output_type": "execute_result"
    },
    {
     "data": {
      "image/png": "[encoded data removed]",
      "text/plain": [
       "<matplotlib.figure.Figure at 0x7fa5c4e03b00>"
      ]
     },
     "metadata": {
      "needs_background": "light"
     },
     "output_type": "display_data"
    }
   ],
   "source": [
    "# ex6 = SEMIO_FAM\n",
    "check(ex6)"
   ]
  },
  {
   "cell_type": "code",
   "execution_count": 29,
   "metadata": {},
   "outputs": [
    {
     "data": {
      "text/plain": [
       "42    categorical\n",
       "Name: type, dtype: object"
      ]
     },
     "execution_count": 29,
     "metadata": {},
     "output_type": "execute_result"
    },
    {
     "data": {
      "image/png": "[encoded data removed]",
      "text/plain": [
       "<matplotlib.figure.Figure at 0x7fa5c5004c18>"
      ]
     },
     "metadata": {
      "needs_background": "light"
     },
     "output_type": "display_data"
    }
   ],
   "source": [
    "# ex 7 = ZABEOTYP\n",
    "check(ex7)"
   ]
  },
  {
   "cell_type": "markdown",
   "metadata": {},
   "source": [
    "#### Discussion 1.1.3: Assess Missing Data in Each Row\n",
    "\n",
    "4 of examples are an ordinal type and 3 of examples are a categorical type. All of the ordinal columns have a big difference in distributions and one categorical column(ex7, ZABEOTYP) have little difference. And other two categorical columns look similar between them. If they have similar distributions, it means we could drop them in the analysis. But over half of examples showed that they have meaningful differences in distributions, so we need to check this subset later."
   ]
  },
  {
   "cell_type": "markdown",
   "metadata": {},
   "source": [
    "### Step 1.2: Select and Re-Encode Features\n",
    "\n",
    "Checking for missing data isn't the only way in which you can prepare a dataset for analysis. Since the unsupervised learning techniques to be used will only work on data that is encoded numerically, you need to make a few encoding changes or additional assumptions to be able to make progress. In addition, while almost all of the values in the dataset are encoded using numbers, not all of them represent numeric values. Check the third column of the feature summary (`feat_info`) for a summary of types of measurement.\n",
    "- For numeric and interval data, these features can be kept without changes.\n",
    "- Most of the variables in the dataset are ordinal in nature. While ordinal values may technically be non-linear in spacing, make the simplifying assumption that the ordinal variables can be treated as being interval in nature (that is, kept without any changes).\n",
    "- Special handling may be necessary for the remaining two variable types: categorical, and 'mixed'.\n",
    "\n",
    "In the first two parts of this sub-step, you will perform an investigation of the categorical and mixed-type features and make a decision on each of them, whether you will keep, drop, or re-encode each. Then, in the last part, you will create a new data frame with only the selected and engineered columns.\n",
    "\n",
    "Data wrangling is often the trickiest part of the data analysis process, and there's a lot of it to be done here. But stick with it: once you're done with this step, you'll be ready to get to the machine learning parts of the project!"
   ]
  },
  {
   "cell_type": "code",
   "execution_count": 30,
   "metadata": {},
   "outputs": [
    {
     "data": {
      "text/plain": [
       "ordinal        49\n",
       "categorical    21\n",
       "mixed           7\n",
       "numeric         7\n",
       "interval        1\n",
       "Name: type, dtype: int64"
      ]
     },
     "execution_count": 30,
     "metadata": {},
     "output_type": "execute_result"
    }
   ],
   "source": [
    "# How many features are there of each data type?\n",
    "feat_info['type'].value_counts()"
   ]
  },
  {
   "cell_type": "markdown",
   "metadata": {},
   "source": [
    "#### Step 1.2.1: Re-Encode Categorical Features\n",
    "\n",
    "For categorical data, you would ordinarily need to encode the levels as dummy variables. Depending on the number of categories, perform one of the following:\n",
    "- For binary (two-level) categoricals that take numeric values, you can keep them without needing to do anything.\n",
    "- There is one binary variable that takes on non-numeric values. For this one, you need to re-encode the values as numbers or create a dummy variable.\n",
    "- For multi-level categoricals (three or more values), you can choose to encode the values using multiple dummy variables (e.g. via [OneHotEncoder](http://scikit-learn.org/stable/modules/generated/sklearn.preprocessing.OneHotEncoder.html)), or (to keep things straightforward) just drop them from the analysis. As always, document your choices in the Discussion section."
   ]
  },
  {
   "cell_type": "code",
   "execution_count": 31,
   "metadata": {},
   "outputs": [
    {
     "name": "stdout",
     "output_type": "stream",
     "text": [
      "['ANREDE_KZ' 'CJT_GESAMTTYP' 'FINANZTYP' 'GFK_URLAUBERTYP'\n",
      " 'GREEN_AVANTGARDE' 'LP_FAMILIE_FEIN' 'LP_FAMILIE_GROB' 'LP_STATUS_FEIN'\n",
      " 'LP_STATUS_GROB' 'NATIONALITAET_KZ' 'SHOPPER_TYP' 'SOHO_KZ' 'VERS_TYP'\n",
      " 'ZABEOTYP' 'GEBAEUDETYP' 'OST_WEST_KZ' 'CAMEO_DEUG_2015' 'CAMEO_DEU_2015']\n"
     ]
    }
   ],
   "source": [
    "# Get current categorical variables\n",
    "del_list = list(missing_column[missing_column > general.shape[0]*0.348].index)\n",
    "cat_columns = feat_info[feat_info['type'] == 'categorical']['attribute'].values \n",
    "\n",
    "index_ = []\n",
    "for i in range(len(cat_columns)):\n",
    "    for j in del_list:\n",
    "        if cat_columns[i] == j:\n",
    "            index_.append(i)\n",
    "                \n",
    "cat_columns = np.delete(cat_columns, index_)\n",
    "print(cat_columns)"
   ]
  },
  {
   "cell_type": "code",
   "execution_count": 32,
   "metadata": {},
   "outputs": [
    {
     "data": {
      "text/html": [
       "<div>\n",
       "<style>\n",
       "    .dataframe thead tr:only-child th {\n",
       "        text-align: right;\n",
       "    }\n",
       "\n",
       "    .dataframe thead th {\n",
       "        text-align: left;\n",
       "    }\n",
       "\n",
       "    .dataframe tbody tr th {\n",
       "        vertical-align: top;\n",
       "    }\n",
       "</style>\n",
       "<table border=\"1\" class=\"dataframe\">\n",
       "  <thead>\n",
       "    <tr style=\"text-align: right;\">\n",
       "      <th></th>\n",
       "      <th>ANREDE_KZ</th>\n",
       "      <th>CJT_GESAMTTYP</th>\n",
       "      <th>FINANZTYP</th>\n",
       "      <th>GFK_URLAUBERTYP</th>\n",
       "      <th>GREEN_AVANTGARDE</th>\n",
       "      <th>LP_FAMILIE_FEIN</th>\n",
       "      <th>LP_FAMILIE_GROB</th>\n",
       "      <th>LP_STATUS_FEIN</th>\n",
       "      <th>LP_STATUS_GROB</th>\n",
       "      <th>NATIONALITAET_KZ</th>\n",
       "      <th>SHOPPER_TYP</th>\n",
       "      <th>SOHO_KZ</th>\n",
       "      <th>VERS_TYP</th>\n",
       "      <th>ZABEOTYP</th>\n",
       "      <th>GEBAEUDETYP</th>\n",
       "    </tr>\n",
       "  </thead>\n",
       "  <tbody>\n",
       "    <tr>\n",
       "      <th>count</th>\n",
       "      <td>719624.000000</td>\n",
       "      <td>719624.000000</td>\n",
       "      <td>719624.000000</td>\n",
       "      <td>719624.000000</td>\n",
       "      <td>719624.000000</td>\n",
       "      <td>700049.000000</td>\n",
       "      <td>700049.000000</td>\n",
       "      <td>719624.000000</td>\n",
       "      <td>719624.000000</td>\n",
       "      <td>706345.000000</td>\n",
       "      <td>704814.000000</td>\n",
       "      <td>719624.000000</td>\n",
       "      <td>704814.000000</td>\n",
       "      <td>719624.000000</td>\n",
       "      <td>719624.000000</td>\n",
       "    </tr>\n",
       "    <tr>\n",
       "      <th>mean</th>\n",
       "      <td>1.516453</td>\n",
       "      <td>3.462264</td>\n",
       "      <td>3.905956</td>\n",
       "      <td>7.469196</td>\n",
       "      <td>0.225177</td>\n",
       "      <td>3.929593</td>\n",
       "      <td>2.382443</td>\n",
       "      <td>4.703691</td>\n",
       "      <td>2.433818</td>\n",
       "      <td>1.168721</td>\n",
       "      <td>1.560626</td>\n",
       "      <td>0.008379</td>\n",
       "      <td>1.529299</td>\n",
       "      <td>3.400932</td>\n",
       "      <td>2.846584</td>\n",
       "    </tr>\n",
       "    <tr>\n",
       "      <th>std</th>\n",
       "      <td>0.499730</td>\n",
       "      <td>1.530735</td>\n",
       "      <td>2.082956</td>\n",
       "      <td>3.541160</td>\n",
       "      <td>0.417699</td>\n",
       "      <td>3.955749</td>\n",
       "      <td>1.705719</td>\n",
       "      <td>3.525593</td>\n",
       "      <td>1.511924</td>\n",
       "      <td>0.474020</td>\n",
       "      <td>1.024272</td>\n",
       "      <td>0.091155</td>\n",
       "      <td>0.499141</td>\n",
       "      <td>1.410445</td>\n",
       "      <td>2.688299</td>\n",
       "    </tr>\n",
       "    <tr>\n",
       "      <th>min</th>\n",
       "      <td>1.000000</td>\n",
       "      <td>1.000000</td>\n",
       "      <td>1.000000</td>\n",
       "      <td>1.000000</td>\n",
       "      <td>0.000000</td>\n",
       "      <td>1.000000</td>\n",
       "      <td>1.000000</td>\n",
       "      <td>1.000000</td>\n",
       "      <td>1.000000</td>\n",
       "      <td>1.000000</td>\n",
       "      <td>0.000000</td>\n",
       "      <td>0.000000</td>\n",
       "      <td>1.000000</td>\n",
       "      <td>1.000000</td>\n",
       "      <td>1.000000</td>\n",
       "    </tr>\n",
       "    <tr>\n",
       "      <th>25%</th>\n",
       "      <td>1.000000</td>\n",
       "      <td>2.000000</td>\n",
       "      <td>2.000000</td>\n",
       "      <td>4.000000</td>\n",
       "      <td>0.000000</td>\n",
       "      <td>1.000000</td>\n",
       "      <td>1.000000</td>\n",
       "      <td>1.000000</td>\n",
       "      <td>1.000000</td>\n",
       "      <td>1.000000</td>\n",
       "      <td>1.000000</td>\n",
       "      <td>0.000000</td>\n",
       "      <td>1.000000</td>\n",
       "      <td>3.000000</td>\n",
       "      <td>1.000000</td>\n",
       "    </tr>\n",
       "    <tr>\n",
       "      <th>50%</th>\n",
       "      <td>2.000000</td>\n",
       "      <td>4.000000</td>\n",
       "      <td>5.000000</td>\n",
       "      <td>8.000000</td>\n",
       "      <td>0.000000</td>\n",
       "      <td>1.000000</td>\n",
       "      <td>1.000000</td>\n",
       "      <td>3.000000</td>\n",
       "      <td>2.000000</td>\n",
       "      <td>1.000000</td>\n",
       "      <td>2.000000</td>\n",
       "      <td>0.000000</td>\n",
       "      <td>2.000000</td>\n",
       "      <td>3.000000</td>\n",
       "      <td>1.000000</td>\n",
       "    </tr>\n",
       "    <tr>\n",
       "      <th>75%</th>\n",
       "      <td>2.000000</td>\n",
       "      <td>5.000000</td>\n",
       "      <td>6.000000</td>\n",
       "      <td>11.000000</td>\n",
       "      <td>0.000000</td>\n",
       "      <td>9.000000</td>\n",
       "      <td>5.000000</td>\n",
       "      <td>9.000000</td>\n",
       "      <td>4.000000</td>\n",
       "      <td>1.000000</td>\n",
       "      <td>2.000000</td>\n",
       "      <td>0.000000</td>\n",
       "      <td>2.000000</td>\n",
       "      <td>4.000000</td>\n",
       "      <td>3.000000</td>\n",
       "    </tr>\n",
       "    <tr>\n",
       "      <th>max</th>\n",
       "      <td>2.000000</td>\n",
       "      <td>6.000000</td>\n",
       "      <td>6.000000</td>\n",
       "      <td>12.000000</td>\n",
       "      <td>1.000000</td>\n",
       "      <td>11.000000</td>\n",
       "      <td>5.000000</td>\n",
       "      <td>10.000000</td>\n",
       "      <td>5.000000</td>\n",
       "      <td>3.000000</td>\n",
       "      <td>3.000000</td>\n",
       "      <td>1.000000</td>\n",
       "      <td>2.000000</td>\n",
       "      <td>6.000000</td>\n",
       "      <td>8.000000</td>\n",
       "    </tr>\n",
       "  </tbody>\n",
       "</table>\n",
       "</div>"
      ],
      "text/plain": [
       "           ANREDE_KZ  CJT_GESAMTTYP      FINANZTYP  GFK_URLAUBERTYP  \\\n",
       "count  719624.000000  719624.000000  719624.000000    719624.000000   \n",
       "mean        1.516453       3.462264       3.905956         7.469196   \n",
       "std         0.499730       1.530735       2.082956         3.541160   \n",
       "min         1.000000       1.000000       1.000000         1.000000   \n",
       "25%         1.000000       2.000000       2.000000         4.000000   \n",
       "50%         2.000000       4.000000       5.000000         8.000000   \n",
       "75%         2.000000       5.000000       6.000000        11.000000   \n",
       "max         2.000000       6.000000       6.000000        12.000000   \n",
       "\n",
       "       GREEN_AVANTGARDE  LP_FAMILIE_FEIN  LP_FAMILIE_GROB  LP_STATUS_FEIN  \\\n",
       "count     719624.000000    700049.000000    700049.000000   719624.000000   \n",
       "mean           0.225177         3.929593         2.382443        4.703691   \n",
       "std            0.417699         3.955749         1.705719        3.525593   \n",
       "min            0.000000         1.000000         1.000000        1.000000   \n",
       "25%            0.000000         1.000000         1.000000        1.000000   \n",
       "50%            0.000000         1.000000         1.000000        3.000000   \n",
       "75%            0.000000         9.000000         5.000000        9.000000   \n",
       "max            1.000000        11.000000         5.000000       10.000000   \n",
       "\n",
       "       LP_STATUS_GROB  NATIONALITAET_KZ    SHOPPER_TYP        SOHO_KZ  \\\n",
       "count   719624.000000     706345.000000  704814.000000  719624.000000   \n",
       "mean         2.433818          1.168721       1.560626       0.008379   \n",
       "std          1.511924          0.474020       1.024272       0.091155   \n",
       "min          1.000000          1.000000       0.000000       0.000000   \n",
       "25%          1.000000          1.000000       1.000000       0.000000   \n",
       "50%          2.000000          1.000000       2.000000       0.000000   \n",
       "75%          4.000000          1.000000       2.000000       0.000000   \n",
       "max          5.000000          3.000000       3.000000       1.000000   \n",
       "\n",
       "            VERS_TYP       ZABEOTYP    GEBAEUDETYP  \n",
       "count  704814.000000  719624.000000  719624.000000  \n",
       "mean        1.529299       3.400932       2.846584  \n",
       "std         0.499141       1.410445       2.688299  \n",
       "min         1.000000       1.000000       1.000000  \n",
       "25%         1.000000       3.000000       1.000000  \n",
       "50%         2.000000       3.000000       1.000000  \n",
       "75%         2.000000       4.000000       3.000000  \n",
       "max         2.000000       6.000000       8.000000  "
      ]
     },
     "execution_count": 32,
     "metadata": {},
     "output_type": "execute_result"
    }
   ],
   "source": [
    "subset1_few.loc[:, cat_columns].describe()"
   ]
  },
  {
   "cell_type": "code",
   "execution_count": 33,
   "metadata": {},
   "outputs": [],
   "source": [
    "# Remove NaNs and get list of multi-level categoricals, binary, and encoding columns\n",
    "subset = subset1_few.dropna().copy()\n",
    "\n",
    "too_many_cat = []\n",
    "binary_cat = []\n",
    "for_encoding_col = []\n",
    "for i in cat_columns:\n",
    "    if len(set(subset[i])) >= 7:\n",
    "        too_many_cat.append(i)\n",
    "    elif len(set(subset[i])) == 2:\n",
    "        binary_cat.append(i)\n",
    "    else:\n",
    "        for_encoding_col.append(i)\n",
    "        "
   ]
  },
  {
   "cell_type": "code",
   "execution_count": 34,
   "metadata": {},
   "outputs": [
    {
     "name": "stdout",
     "output_type": "stream",
     "text": [
      "over 7 category : ['GFK_URLAUBERTYP', 'LP_FAMILIE_FEIN', 'LP_STATUS_FEIN', 'CAMEO_DEUG_2015', 'CAMEO_DEU_2015']\n",
      "binary category : ['ANREDE_KZ', 'GREEN_AVANTGARDE', 'SOHO_KZ', 'VERS_TYP', 'OST_WEST_KZ']\n",
      "for encoding columns : ['CJT_GESAMTTYP', 'FINANZTYP', 'LP_FAMILIE_GROB', 'LP_STATUS_GROB', 'NATIONALITAET_KZ', 'SHOPPER_TYP', 'ZABEOTYP', 'GEBAEUDETYP']\n"
     ]
    }
   ],
   "source": [
    "print('over 7 category : {}'.format(too_many_cat))\n",
    "print('binary category : {}'.format(binary_cat))\n",
    "print('for encoding columns : {}'.format(for_encoding_col))"
   ]
  },
  {
   "cell_type": "code",
   "execution_count": 35,
   "metadata": {},
   "outputs": [],
   "source": [
    "subset.drop(too_many_cat, axis = 1, inplace = True)     # drop multi-level categoricals\n",
    "subset['OST_WEST_KZ'] = subset['OST_WEST_KZ'].apply(lambda x : 1 if x == 'W' else 0) # convert str to numerical value\n",
    "subset.index = np.arange(subset.shape[0])"
   ]
  },
  {
   "cell_type": "code",
   "execution_count": 36,
   "metadata": {
    "scrolled": true
   },
   "outputs": [],
   "source": [
    "# Re-encode categorical variable(s) to be kept in the analysis.\n",
    "ohe = OneHotEncoder()\n",
    "for i in for_encoding_col:\n",
    "    encoded = ohe.fit_transform(subset[i].values.reshape(-1, 1)).toarray()\n",
    "    encoded_df = pd.DataFrame(encoded, columns = [i + str(int(j)) for j in range(encoded.shape[1])])\n",
    "    subset = pd.concat([subset, encoded_df], axis=1)"
   ]
  },
  {
   "cell_type": "code",
   "execution_count": 37,
   "metadata": {},
   "outputs": [
    {
     "data": {
      "text/html": [
       "<div>\n",
       "<style>\n",
       "    .dataframe thead tr:only-child th {\n",
       "        text-align: right;\n",
       "    }\n",
       "\n",
       "    .dataframe thead th {\n",
       "        text-align: left;\n",
       "    }\n",
       "\n",
       "    .dataframe tbody tr th {\n",
       "        vertical-align: top;\n",
       "    }\n",
       "</style>\n",
       "<table border=\"1\" class=\"dataframe\">\n",
       "  <thead>\n",
       "    <tr style=\"text-align: right;\">\n",
       "      <th></th>\n",
       "      <th>ALTERSKATEGORIE_GROB</th>\n",
       "      <th>ANREDE_KZ</th>\n",
       "      <th>FINANZ_MINIMALIST</th>\n",
       "      <th>FINANZ_SPARER</th>\n",
       "      <th>FINANZ_VORSORGER</th>\n",
       "      <th>FINANZ_ANLEGER</th>\n",
       "      <th>FINANZ_UNAUFFAELLIGER</th>\n",
       "      <th>FINANZ_HAUSBAUER</th>\n",
       "      <th>GREEN_AVANTGARDE</th>\n",
       "      <th>HEALTH_TYP</th>\n",
       "      <th>...</th>\n",
       "      <th>ZABEOTYP0</th>\n",
       "      <th>ZABEOTYP1</th>\n",
       "      <th>ZABEOTYP2</th>\n",
       "      <th>ZABEOTYP3</th>\n",
       "      <th>ZABEOTYP4</th>\n",
       "      <th>ZABEOTYP5</th>\n",
       "      <th>GEBAEUDETYP0</th>\n",
       "      <th>GEBAEUDETYP1</th>\n",
       "      <th>GEBAEUDETYP2</th>\n",
       "      <th>GEBAEUDETYP3</th>\n",
       "    </tr>\n",
       "  </thead>\n",
       "  <tbody>\n",
       "    <tr>\n",
       "      <th>0</th>\n",
       "      <td>1.0</td>\n",
       "      <td>2</td>\n",
       "      <td>1</td>\n",
       "      <td>5</td>\n",
       "      <td>2</td>\n",
       "      <td>5</td>\n",
       "      <td>4</td>\n",
       "      <td>5</td>\n",
       "      <td>0</td>\n",
       "      <td>3.0</td>\n",
       "      <td>...</td>\n",
       "      <td>0.0</td>\n",
       "      <td>0.0</td>\n",
       "      <td>0.0</td>\n",
       "      <td>0.0</td>\n",
       "      <td>1.0</td>\n",
       "      <td>0.0</td>\n",
       "      <td>0.0</td>\n",
       "      <td>0.0</td>\n",
       "      <td>0.0</td>\n",
       "      <td>1.0</td>\n",
       "    </tr>\n",
       "    <tr>\n",
       "      <th>1</th>\n",
       "      <td>3.0</td>\n",
       "      <td>2</td>\n",
       "      <td>1</td>\n",
       "      <td>4</td>\n",
       "      <td>1</td>\n",
       "      <td>2</td>\n",
       "      <td>3</td>\n",
       "      <td>5</td>\n",
       "      <td>1</td>\n",
       "      <td>3.0</td>\n",
       "      <td>...</td>\n",
       "      <td>0.0</td>\n",
       "      <td>0.0</td>\n",
       "      <td>0.0</td>\n",
       "      <td>0.0</td>\n",
       "      <td>1.0</td>\n",
       "      <td>0.0</td>\n",
       "      <td>1.0</td>\n",
       "      <td>0.0</td>\n",
       "      <td>0.0</td>\n",
       "      <td>0.0</td>\n",
       "    </tr>\n",
       "    <tr>\n",
       "      <th>2</th>\n",
       "      <td>3.0</td>\n",
       "      <td>1</td>\n",
       "      <td>4</td>\n",
       "      <td>3</td>\n",
       "      <td>4</td>\n",
       "      <td>1</td>\n",
       "      <td>3</td>\n",
       "      <td>2</td>\n",
       "      <td>0</td>\n",
       "      <td>3.0</td>\n",
       "      <td>...</td>\n",
       "      <td>0.0</td>\n",
       "      <td>0.0</td>\n",
       "      <td>0.0</td>\n",
       "      <td>1.0</td>\n",
       "      <td>0.0</td>\n",
       "      <td>0.0</td>\n",
       "      <td>1.0</td>\n",
       "      <td>0.0</td>\n",
       "      <td>0.0</td>\n",
       "      <td>0.0</td>\n",
       "    </tr>\n",
       "    <tr>\n",
       "      <th>3</th>\n",
       "      <td>1.0</td>\n",
       "      <td>2</td>\n",
       "      <td>3</td>\n",
       "      <td>1</td>\n",
       "      <td>5</td>\n",
       "      <td>2</td>\n",
       "      <td>2</td>\n",
       "      <td>5</td>\n",
       "      <td>0</td>\n",
       "      <td>3.0</td>\n",
       "      <td>...</td>\n",
       "      <td>0.0</td>\n",
       "      <td>0.0</td>\n",
       "      <td>0.0</td>\n",
       "      <td>1.0</td>\n",
       "      <td>0.0</td>\n",
       "      <td>0.0</td>\n",
       "      <td>1.0</td>\n",
       "      <td>0.0</td>\n",
       "      <td>0.0</td>\n",
       "      <td>0.0</td>\n",
       "    </tr>\n",
       "    <tr>\n",
       "      <th>4</th>\n",
       "      <td>2.0</td>\n",
       "      <td>2</td>\n",
       "      <td>1</td>\n",
       "      <td>5</td>\n",
       "      <td>1</td>\n",
       "      <td>5</td>\n",
       "      <td>4</td>\n",
       "      <td>3</td>\n",
       "      <td>0</td>\n",
       "      <td>2.0</td>\n",
       "      <td>...</td>\n",
       "      <td>0.0</td>\n",
       "      <td>0.0</td>\n",
       "      <td>0.0</td>\n",
       "      <td>1.0</td>\n",
       "      <td>0.0</td>\n",
       "      <td>0.0</td>\n",
       "      <td>1.0</td>\n",
       "      <td>0.0</td>\n",
       "      <td>0.0</td>\n",
       "      <td>0.0</td>\n",
       "    </tr>\n",
       "  </tbody>\n",
       "</table>\n",
       "<p>5 rows × 105 columns</p>\n",
       "</div>"
      ],
      "text/plain": [
       "   ALTERSKATEGORIE_GROB  ANREDE_KZ  FINANZ_MINIMALIST  FINANZ_SPARER  \\\n",
       "0                   1.0          2                  1              5   \n",
       "1                   3.0          2                  1              4   \n",
       "2                   3.0          1                  4              3   \n",
       "3                   1.0          2                  3              1   \n",
       "4                   2.0          2                  1              5   \n",
       "\n",
       "   FINANZ_VORSORGER  FINANZ_ANLEGER  FINANZ_UNAUFFAELLIGER  FINANZ_HAUSBAUER  \\\n",
       "0                 2               5                      4                 5   \n",
       "1                 1               2                      3                 5   \n",
       "2                 4               1                      3                 2   \n",
       "3                 5               2                      2                 5   \n",
       "4                 1               5                      4                 3   \n",
       "\n",
       "   GREEN_AVANTGARDE  HEALTH_TYP      ...       ZABEOTYP0  ZABEOTYP1  \\\n",
       "0                 0         3.0      ...             0.0        0.0   \n",
       "1                 1         3.0      ...             0.0        0.0   \n",
       "2                 0         3.0      ...             0.0        0.0   \n",
       "3                 0         3.0      ...             0.0        0.0   \n",
       "4                 0         2.0      ...             0.0        0.0   \n",
       "\n",
       "   ZABEOTYP2  ZABEOTYP3  ZABEOTYP4  ZABEOTYP5  GEBAEUDETYP0  GEBAEUDETYP1  \\\n",
       "0        0.0        0.0        1.0        0.0           0.0           0.0   \n",
       "1        0.0        0.0        1.0        0.0           1.0           0.0   \n",
       "2        0.0        1.0        0.0        0.0           1.0           0.0   \n",
       "3        0.0        1.0        0.0        0.0           1.0           0.0   \n",
       "4        0.0        1.0        0.0        0.0           1.0           0.0   \n",
       "\n",
       "   GEBAEUDETYP2  GEBAEUDETYP3  \n",
       "0           0.0           1.0  \n",
       "1           0.0           0.0  \n",
       "2           0.0           0.0  \n",
       "3           0.0           0.0  \n",
       "4           0.0           0.0  \n",
       "\n",
       "[5 rows x 105 columns]"
      ]
     },
     "execution_count": 37,
     "metadata": {},
     "output_type": "execute_result"
    }
   ],
   "source": [
    "# remove original variables and check\n",
    "subset.drop(for_encoding_col, axis = 1, inplace = True)\n",
    "subset.head()"
   ]
  },
  {
   "cell_type": "markdown",
   "metadata": {},
   "source": [
    "#### Discussion 1.2.1: Re-Encode Categorical Features\n",
    "\n",
    "First, I got a list of twenty-one categorical variables in subset1_few except for already removed variables.\n",
    "Then I classified it into three lists over 7 categoricals, binary variables, encoding variables. Also, I removed these multi-level categoricals(over 7 categories) and keep other things.\n",
    "\n",
    "over 7 category : ['GFK_URLAUBERTYP', 'LP_FAMILIE_FEIN', 'LP_STATUS_FEIN', 'CAMEO_DEUG_2015', 'CAMEO_DEU_2015']\n",
    "\n",
    "And except for binary variables, I applied encoding variables to OneHotEncoding to getting dummy variables. For this encoding part, I converted strings to numerical type and reindexed indices of data."
   ]
  },
  {
   "cell_type": "markdown",
   "metadata": {},
   "source": [
    "#### Step 1.2.2: Engineer Mixed-Type Features\n",
    "\n",
    "There are a handful of features that are marked as \"mixed\" in the feature summary that require special treatment in order to be included in the analysis. There are two in particular that deserve attention; the handling of the rest are up to your own choices:\n",
    "- \"PRAEGENDE_JUGENDJAHRE\" combines information on three dimensions: generation by decade, movement (mainstream vs. avantgarde), and nation (east vs. west). While there aren't enough levels to disentangle east from west, you should create two new variables to capture the other two dimensions: an interval-type variable for decade, and a binary variable for movement.\n",
    "- \"CAMEO_INTL_2015\" combines information on two axes: wealth and life stage. Break up the two-digit codes by their 'tens'-place and 'ones'-place digits into two new ordinal variables (which, for the purposes of this project, is equivalent to just treating them as their raw numeric values).\n",
    "- If you decide to keep or engineer new features around the other mixed-type features, make sure you note your steps in the Discussion section.\n",
    "\n",
    "Be sure to check `Data_Dictionary.md` for the details needed to finish these tasks."
   ]
  },
  {
   "cell_type": "code",
   "execution_count": 38,
   "metadata": {
    "scrolled": true
   },
   "outputs": [
    {
     "name": "stdout",
     "output_type": "stream",
     "text": [
      "['LP_LEBENSPHASE_FEIN' 'LP_LEBENSPHASE_GROB' 'PRAEGENDE_JUGENDJAHRE'\n",
      " 'WOHNLAGE' 'CAMEO_INTL_2015' 'PLZ8_BAUMAX']\n"
     ]
    }
   ],
   "source": [
    "# get list of mixed type columns\n",
    "mixed_col = feat_info[feat_info['type'] == 'mixed']['attribute'].values\n",
    "del_list = ['AGER_TYP', 'GEBURTSJAHR', 'TITEL_KZ', 'ALTER_HH', 'KK_KUNDENTYP', 'KBA05_BAUMAX']\n",
    "\n",
    "index_ = []\n",
    "for i in range(len(mixed_col)):\n",
    "    for j in del_list:\n",
    "        if mixed_col[i] == j:\n",
    "            index_.append(i)\n",
    "\n",
    "mixed_col = np.delete(mixed_col, index_)\n",
    "print(mixed_col) "
   ]
  },
  {
   "cell_type": "code",
   "execution_count": 39,
   "metadata": {
    "scrolled": true
   },
   "outputs": [],
   "source": [
    "# preprocessing for PRAEGENDE_JUGENDJAHRE \n",
    "subset['PRAEGENDE_JUGENDJAHRE_DECADE'] = subset['PRAEGENDE_JUGENDJAHRE'].apply(\\\n",
    "    lambda x : (x <= 2 and 1) or (x <= 4 and 2) or (x <= 7 and 3) or (x <= 9 and 4) or (x <=13 and 5) or (x <=15 and 6))\n",
    "# 1 = 40s ~ 6 = 90s\n",
    "\n",
    "subset['PRAEGENDE_JUGENDJAHRE_MOVEMENT'] = subset['PRAEGENDE_JUGENDJAHRE'].apply(\\\n",
    "    lambda x : 0 if x in [1, 3, 5, 8, 10, 12, 14] else 1)                                                                             \n",
    "# 0 = MAIN, 1 = Avant\n",
    "\n",
    "subset.drop('PRAEGENDE_JUGENDJAHRE', axis = 1, inplace = True)"
   ]
  },
  {
   "cell_type": "code",
   "execution_count": 40,
   "metadata": {},
   "outputs": [],
   "source": [
    "# preprocessing for CAMEO_INTL_2015\n",
    "subset['CAMEO_INTL_2015_WEALTH'] = subset['CAMEO_INTL_2015'].apply(lambda x : int(str(x)[0]))\n",
    "# 1 = Wealthy, 2 = Prosperous, 3 = Confortable, 4 = Less Affluent, 5 = Poorer \n",
    "\n",
    "subset['CAMEO_INTL_2015_LIFE'] = subset['CAMEO_INTL_2015'].apply(lambda x : int(str(x)[1]))\n",
    "# 1 = Pre-Family Couples & Singles\n",
    "# 2 = Young Couples With Children\n",
    "# 3 = Families With School Age Children\n",
    "# 4 = Older Families &  Mature Couples\n",
    "# 5 = Elders In Retirement\n",
    "\n",
    "subset.drop('CAMEO_INTL_2015', axis = 1, inplace = True)"
   ]
  },
  {
   "cell_type": "markdown",
   "metadata": {},
   "source": [
    "#### Discussion 1.2.2: Engineer Mixed-Type Features\n",
    "\n",
    "In this part, I handled only two columns PRAEGENDE_JUGENDJAHRE, CAMEO_INTL_2015. First, I break down PRAEGENDE_JUGENDJAHRE into two dimensions by decade and movement. Originally, it has three dimensions but I ignored nation dimension. because it has too many categories which could be classified as both sides. Second, I divided CAMEO_INTL_2015 into two dimensions. One is wealth and the other is family-type or life stage. Then I removed original two columns cause they didn't need anymore.\n"
   ]
  },
  {
   "cell_type": "markdown",
   "metadata": {},
   "source": [
    "#### Step 1.2.3: Complete Feature Selection\n",
    "\n",
    "In order to finish this step up, you need to make sure that your data frame now only has the columns that you want to keep. To summarize, the dataframe should consist of the following:\n",
    "- All numeric, interval, and ordinal type columns from the original dataset.\n",
    "- Binary categorical features (all numerically-encoded).\n",
    "- Engineered features from other multi-level categorical features and mixed features.\n",
    "\n",
    "Make sure that for any new columns that you have engineered, that you've excluded the original columns from the final dataset. Otherwise, their values will interfere with the analysis later on the project. For example, you should not keep \"PRAEGENDE_JUGENDJAHRE\", since its values won't be useful for the algorithm: only the values derived from it in the engineered features you created should be retained. As a reminder, your data should only be from **the subset with few or no missing values**."
   ]
  },
  {
   "cell_type": "code",
   "execution_count": 41,
   "metadata": {},
   "outputs": [
    {
     "data": {
      "text/html": [
       "<div>\n",
       "<style>\n",
       "    .dataframe thead tr:only-child th {\n",
       "        text-align: right;\n",
       "    }\n",
       "\n",
       "    .dataframe thead th {\n",
       "        text-align: left;\n",
       "    }\n",
       "\n",
       "    .dataframe tbody tr th {\n",
       "        vertical-align: top;\n",
       "    }\n",
       "</style>\n",
       "<table border=\"1\" class=\"dataframe\">\n",
       "  <thead>\n",
       "    <tr style=\"text-align: right;\">\n",
       "      <th></th>\n",
       "      <th>ALTERSKATEGORIE_GROB</th>\n",
       "      <th>ANREDE_KZ</th>\n",
       "      <th>FINANZ_MINIMALIST</th>\n",
       "      <th>FINANZ_SPARER</th>\n",
       "      <th>FINANZ_VORSORGER</th>\n",
       "      <th>FINANZ_ANLEGER</th>\n",
       "      <th>FINANZ_UNAUFFAELLIGER</th>\n",
       "      <th>FINANZ_HAUSBAUER</th>\n",
       "      <th>GREEN_AVANTGARDE</th>\n",
       "      <th>HEALTH_TYP</th>\n",
       "      <th>...</th>\n",
       "      <th>ZABEOTYP4</th>\n",
       "      <th>ZABEOTYP5</th>\n",
       "      <th>GEBAEUDETYP0</th>\n",
       "      <th>GEBAEUDETYP1</th>\n",
       "      <th>GEBAEUDETYP2</th>\n",
       "      <th>GEBAEUDETYP3</th>\n",
       "      <th>PRAEGENDE_JUGENDJAHRE_DECADE</th>\n",
       "      <th>PRAEGENDE_JUGENDJAHRE_MOVEMENT</th>\n",
       "      <th>CAMEO_INTL_2015_WEALTH</th>\n",
       "      <th>CAMEO_INTL_2015_LIFE</th>\n",
       "    </tr>\n",
       "  </thead>\n",
       "  <tbody>\n",
       "    <tr>\n",
       "      <th>count</th>\n",
       "      <td>623209.000000</td>\n",
       "      <td>623209.000000</td>\n",
       "      <td>623209.000000</td>\n",
       "      <td>623209.000000</td>\n",
       "      <td>623209.000000</td>\n",
       "      <td>623209.000000</td>\n",
       "      <td>623209.000000</td>\n",
       "      <td>623209.000000</td>\n",
       "      <td>623209.000000</td>\n",
       "      <td>623209.000000</td>\n",
       "      <td>...</td>\n",
       "      <td>623209.000000</td>\n",
       "      <td>623209.000000</td>\n",
       "      <td>623209.000000</td>\n",
       "      <td>623209.000000</td>\n",
       "      <td>623209.000000</td>\n",
       "      <td>623209.000000</td>\n",
       "      <td>623209.000000</td>\n",
       "      <td>623209.000000</td>\n",
       "      <td>623209.000000</td>\n",
       "      <td>623209.000000</td>\n",
       "    </tr>\n",
       "    <tr>\n",
       "      <th>mean</th>\n",
       "      <td>2.792540</td>\n",
       "      <td>1.511211</td>\n",
       "      <td>3.057793</td>\n",
       "      <td>2.677015</td>\n",
       "      <td>3.451430</td>\n",
       "      <td>2.770220</td>\n",
       "      <td>2.563095</td>\n",
       "      <td>3.169596</td>\n",
       "      <td>0.234626</td>\n",
       "      <td>2.207486</td>\n",
       "      <td>...</td>\n",
       "      <td>0.102059</td>\n",
       "      <td>0.087319</td>\n",
       "      <td>0.573987</td>\n",
       "      <td>0.225478</td>\n",
       "      <td>0.000002</td>\n",
       "      <td>0.200533</td>\n",
       "      <td>4.309756</td>\n",
       "      <td>0.234626</td>\n",
       "      <td>3.326605</td>\n",
       "      <td>2.875790</td>\n",
       "    </tr>\n",
       "    <tr>\n",
       "      <th>std</th>\n",
       "      <td>1.026485</td>\n",
       "      <td>0.499875</td>\n",
       "      <td>1.360774</td>\n",
       "      <td>1.469261</td>\n",
       "      <td>1.388873</td>\n",
       "      <td>1.448796</td>\n",
       "      <td>1.372308</td>\n",
       "      <td>1.365483</td>\n",
       "      <td>0.423765</td>\n",
       "      <td>0.758644</td>\n",
       "      <td>...</td>\n",
       "      <td>0.302726</td>\n",
       "      <td>0.282302</td>\n",
       "      <td>0.494496</td>\n",
       "      <td>0.417897</td>\n",
       "      <td>0.001267</td>\n",
       "      <td>0.400400</td>\n",
       "      <td>1.451534</td>\n",
       "      <td>0.423765</td>\n",
       "      <td>1.457813</td>\n",
       "      <td>1.499305</td>\n",
       "    </tr>\n",
       "    <tr>\n",
       "      <th>min</th>\n",
       "      <td>1.000000</td>\n",
       "      <td>1.000000</td>\n",
       "      <td>1.000000</td>\n",
       "      <td>1.000000</td>\n",
       "      <td>1.000000</td>\n",
       "      <td>1.000000</td>\n",
       "      <td>1.000000</td>\n",
       "      <td>1.000000</td>\n",
       "      <td>0.000000</td>\n",
       "      <td>1.000000</td>\n",
       "      <td>...</td>\n",
       "      <td>0.000000</td>\n",
       "      <td>0.000000</td>\n",
       "      <td>0.000000</td>\n",
       "      <td>0.000000</td>\n",
       "      <td>0.000000</td>\n",
       "      <td>0.000000</td>\n",
       "      <td>1.000000</td>\n",
       "      <td>0.000000</td>\n",
       "      <td>1.000000</td>\n",
       "      <td>1.000000</td>\n",
       "    </tr>\n",
       "    <tr>\n",
       "      <th>25%</th>\n",
       "      <td>2.000000</td>\n",
       "      <td>1.000000</td>\n",
       "      <td>2.000000</td>\n",
       "      <td>1.000000</td>\n",
       "      <td>2.000000</td>\n",
       "      <td>1.000000</td>\n",
       "      <td>1.000000</td>\n",
       "      <td>2.000000</td>\n",
       "      <td>0.000000</td>\n",
       "      <td>2.000000</td>\n",
       "      <td>...</td>\n",
       "      <td>0.000000</td>\n",
       "      <td>0.000000</td>\n",
       "      <td>0.000000</td>\n",
       "      <td>0.000000</td>\n",
       "      <td>0.000000</td>\n",
       "      <td>0.000000</td>\n",
       "      <td>3.000000</td>\n",
       "      <td>0.000000</td>\n",
       "      <td>2.000000</td>\n",
       "      <td>1.000000</td>\n",
       "    </tr>\n",
       "    <tr>\n",
       "      <th>50%</th>\n",
       "      <td>3.000000</td>\n",
       "      <td>2.000000</td>\n",
       "      <td>3.000000</td>\n",
       "      <td>3.000000</td>\n",
       "      <td>4.000000</td>\n",
       "      <td>3.000000</td>\n",
       "      <td>2.000000</td>\n",
       "      <td>3.000000</td>\n",
       "      <td>0.000000</td>\n",
       "      <td>2.000000</td>\n",
       "      <td>...</td>\n",
       "      <td>0.000000</td>\n",
       "      <td>0.000000</td>\n",
       "      <td>1.000000</td>\n",
       "      <td>0.000000</td>\n",
       "      <td>0.000000</td>\n",
       "      <td>0.000000</td>\n",
       "      <td>4.000000</td>\n",
       "      <td>0.000000</td>\n",
       "      <td>4.000000</td>\n",
       "      <td>3.000000</td>\n",
       "    </tr>\n",
       "    <tr>\n",
       "      <th>75%</th>\n",
       "      <td>4.000000</td>\n",
       "      <td>2.000000</td>\n",
       "      <td>4.000000</td>\n",
       "      <td>4.000000</td>\n",
       "      <td>5.000000</td>\n",
       "      <td>4.000000</td>\n",
       "      <td>4.000000</td>\n",
       "      <td>4.000000</td>\n",
       "      <td>0.000000</td>\n",
       "      <td>3.000000</td>\n",
       "      <td>...</td>\n",
       "      <td>0.000000</td>\n",
       "      <td>0.000000</td>\n",
       "      <td>1.000000</td>\n",
       "      <td>0.000000</td>\n",
       "      <td>0.000000</td>\n",
       "      <td>0.000000</td>\n",
       "      <td>6.000000</td>\n",
       "      <td>0.000000</td>\n",
       "      <td>5.000000</td>\n",
       "      <td>4.000000</td>\n",
       "    </tr>\n",
       "    <tr>\n",
       "      <th>max</th>\n",
       "      <td>4.000000</td>\n",
       "      <td>2.000000</td>\n",
       "      <td>5.000000</td>\n",
       "      <td>5.000000</td>\n",
       "      <td>5.000000</td>\n",
       "      <td>5.000000</td>\n",
       "      <td>5.000000</td>\n",
       "      <td>5.000000</td>\n",
       "      <td>1.000000</td>\n",
       "      <td>3.000000</td>\n",
       "      <td>...</td>\n",
       "      <td>1.000000</td>\n",
       "      <td>1.000000</td>\n",
       "      <td>1.000000</td>\n",
       "      <td>1.000000</td>\n",
       "      <td>1.000000</td>\n",
       "      <td>1.000000</td>\n",
       "      <td>6.000000</td>\n",
       "      <td>1.000000</td>\n",
       "      <td>5.000000</td>\n",
       "      <td>5.000000</td>\n",
       "    </tr>\n",
       "  </tbody>\n",
       "</table>\n",
       "<p>8 rows × 107 columns</p>\n",
       "</div>"
      ],
      "text/plain": [
       "       ALTERSKATEGORIE_GROB      ANREDE_KZ  FINANZ_MINIMALIST  FINANZ_SPARER  \\\n",
       "count         623209.000000  623209.000000      623209.000000  623209.000000   \n",
       "mean               2.792540       1.511211           3.057793       2.677015   \n",
       "std                1.026485       0.499875           1.360774       1.469261   \n",
       "min                1.000000       1.000000           1.000000       1.000000   \n",
       "25%                2.000000       1.000000           2.000000       1.000000   \n",
       "50%                3.000000       2.000000           3.000000       3.000000   \n",
       "75%                4.000000       2.000000           4.000000       4.000000   \n",
       "max                4.000000       2.000000           5.000000       5.000000   \n",
       "\n",
       "       FINANZ_VORSORGER  FINANZ_ANLEGER  FINANZ_UNAUFFAELLIGER  \\\n",
       "count     623209.000000   623209.000000          623209.000000   \n",
       "mean           3.451430        2.770220               2.563095   \n",
       "std            1.388873        1.448796               1.372308   \n",
       "min            1.000000        1.000000               1.000000   \n",
       "25%            2.000000        1.000000               1.000000   \n",
       "50%            4.000000        3.000000               2.000000   \n",
       "75%            5.000000        4.000000               4.000000   \n",
       "max            5.000000        5.000000               5.000000   \n",
       "\n",
       "       FINANZ_HAUSBAUER  GREEN_AVANTGARDE     HEALTH_TYP  \\\n",
       "count     623209.000000     623209.000000  623209.000000   \n",
       "mean           3.169596          0.234626       2.207486   \n",
       "std            1.365483          0.423765       0.758644   \n",
       "min            1.000000          0.000000       1.000000   \n",
       "25%            2.000000          0.000000       2.000000   \n",
       "50%            3.000000          0.000000       2.000000   \n",
       "75%            4.000000          0.000000       3.000000   \n",
       "max            5.000000          1.000000       3.000000   \n",
       "\n",
       "               ...               ZABEOTYP4      ZABEOTYP5   GEBAEUDETYP0  \\\n",
       "count          ...           623209.000000  623209.000000  623209.000000   \n",
       "mean           ...                0.102059       0.087319       0.573987   \n",
       "std            ...                0.302726       0.282302       0.494496   \n",
       "min            ...                0.000000       0.000000       0.000000   \n",
       "25%            ...                0.000000       0.000000       0.000000   \n",
       "50%            ...                0.000000       0.000000       1.000000   \n",
       "75%            ...                0.000000       0.000000       1.000000   \n",
       "max            ...                1.000000       1.000000       1.000000   \n",
       "\n",
       "        GEBAEUDETYP1   GEBAEUDETYP2   GEBAEUDETYP3  \\\n",
       "count  623209.000000  623209.000000  623209.000000   \n",
       "mean        0.225478       0.000002       0.200533   \n",
       "std         0.417897       0.001267       0.400400   \n",
       "min         0.000000       0.000000       0.000000   \n",
       "25%         0.000000       0.000000       0.000000   \n",
       "50%         0.000000       0.000000       0.000000   \n",
       "75%         0.000000       0.000000       0.000000   \n",
       "max         1.000000       1.000000       1.000000   \n",
       "\n",
       "       PRAEGENDE_JUGENDJAHRE_DECADE  PRAEGENDE_JUGENDJAHRE_MOVEMENT  \\\n",
       "count                 623209.000000                   623209.000000   \n",
       "mean                       4.309756                        0.234626   \n",
       "std                        1.451534                        0.423765   \n",
       "min                        1.000000                        0.000000   \n",
       "25%                        3.000000                        0.000000   \n",
       "50%                        4.000000                        0.000000   \n",
       "75%                        6.000000                        0.000000   \n",
       "max                        6.000000                        1.000000   \n",
       "\n",
       "       CAMEO_INTL_2015_WEALTH  CAMEO_INTL_2015_LIFE  \n",
       "count           623209.000000         623209.000000  \n",
       "mean                 3.326605              2.875790  \n",
       "std                  1.457813              1.499305  \n",
       "min                  1.000000              1.000000  \n",
       "25%                  2.000000              1.000000  \n",
       "50%                  4.000000              3.000000  \n",
       "75%                  5.000000              4.000000  \n",
       "max                  5.000000              5.000000  \n",
       "\n",
       "[8 rows x 107 columns]"
      ]
     },
     "execution_count": 41,
     "metadata": {},
     "output_type": "execute_result"
    }
   ],
   "source": [
    "# If there are other re-engineering tasks you need to perform, make sure you\n",
    "# take care of them here. (Dealing with missing data will come in step 2.1.)\n",
    "\n",
    "subset.describe()"
   ]
  },
  {
   "cell_type": "markdown",
   "metadata": {},
   "source": [
    "### Step 1.3: Create a Cleaning Function\n",
    "\n",
    "Even though you've finished cleaning up the general population demographics data, it's important to look ahead to the future and realize that you'll need to perform the same cleaning steps on the customer demographics data. In this substep, complete the function below to execute the main feature selection, encoding, and re-engineering steps you performed above. Then, when it comes to looking at the customer data in Step 3, you can just run this function on that DataFrame to get the trimmed dataset in a single step."
   ]
  },
  {
   "cell_type": "code",
   "execution_count": 42,
   "metadata": {},
   "outputs": [],
   "source": [
    "def clean_data(df):\n",
    "    \"\"\"\n",
    "    Perform feature trimming, re-encoding, and engineering for demographics\n",
    "    data\n",
    "    \n",
    "    INPUT: Demographics DataFrame\n",
    "    OUTPUT: Trimmed and cleaned demographics DataFrame\n",
    "    \"\"\"\n",
    "    \n",
    "    # Load info data\n",
    "    feat_info = pd.read_csv('AZDIAS_Feature_Summary.csv', delimiter = ';')\n",
    "    \n",
    "    # Process to use unknown values\n",
    "    unknown = feat_info['missing_or_unknown'].copy()\n",
    "    unknown[57] = unknown[57].replace('X', '\"X\"')\n",
    "    unknown[58] = unknown[58].replace('XX', '\"XX\"')\n",
    "    unknown[59] = unknown[59].replace('XX', '\"XX\"')\n",
    "    unknown.replace('[]', '[\"blank\"]', inplace = True)\n",
    "    \n",
    "    general = df.copy()\n",
    "    for i in range(general.shape[1]):\n",
    "        general.iloc[:, i].replace(literal_eval(unknown[i]), np.nan, inplace = True)\n",
    "    \n",
    "  \n",
    "    # Remove missing-value outliers in columns    \n",
    "    missing_column = general.isnull().sum()\n",
    "    people = general.drop(missing_column[missing_column > general.shape[0]*0.348].index, axis = 1)\n",
    "    \n",
    "    # Divide the data into two subsets\n",
    "    missing_row = people.isnull().sum(axis = 1)\n",
    "    few_miss_index = list(missing_row[missing_row.values < 6].index)\n",
    "    high_miss_index = list(missing_row[missing_row.values >= 6].index)\n",
    "\n",
    "    subset1_few = people.iloc[few_miss_index]\n",
    "    subset2_high = people.iloc[high_miss_index]\n",
    "        \n",
    "    # Process for getting a category columns, multi-level columns, binary, and encoding columns.\n",
    "    del_list = list(missing_column[missing_column > general.shape[0]*0.348].index)\n",
    "    cat_columns = feat_info[feat_info['type'] == 'categorical']['attribute'].values \n",
    "\n",
    "    index_ = []\n",
    "    for i in range(len(cat_columns)):\n",
    "        for j in del_list:\n",
    "            if cat_columns[i] == j:\n",
    "                index_.append(i)\n",
    "                \n",
    "    cat_columns = np.delete(cat_columns, index_)\n",
    "    \n",
    "    subset = subset1_few.dropna().copy()\n",
    "  \n",
    "    too_many_cat = []\n",
    "    binary_cat = []\n",
    "    for_encoding_col = []\n",
    "    for i in cat_columns:\n",
    "        if len(set(subset[i])) >= 7:\n",
    "            too_many_cat.append(i)\n",
    "        elif len(set(subset[i])) == 2:\n",
    "            binary_cat.append(i)\n",
    "        else:\n",
    "            for_encoding_col.append(i)\n",
    "    \n",
    "    # Drop multi-level columns and reindexing\n",
    "    subset.drop(too_many_cat, axis = 1, inplace = True) # delete too_many category columns\n",
    "    if 'OST_WEST_KZ' in subset.columns: \n",
    "        subset['OST_WEST_KZ'] = subset['OST_WEST_KZ'].apply(lambda x : 1 if x == 'W' else 0) \n",
    "    \n",
    "    subset.index = np.arange(subset.shape[0])\n",
    "    \n",
    "    # One-Hot_Encoding\n",
    "    ohe = OneHotEncoder()\n",
    "    for i in for_encoding_col:\n",
    "        encoded = ohe.fit_transform(subset[i].values.reshape(-1, 1)).toarray()\n",
    "        encoded_df = pd.DataFrame(encoded, columns = [i + str(int(j)) for j in range(encoded.shape[1])])\n",
    "        subset = pd.concat([subset, encoded_df], axis=1)\n",
    "    \n",
    "    subset.drop(for_encoding_col, axis = 1, inplace = True)\n",
    "    \n",
    "    # Proecess for mixtured columns\n",
    "    mixed_col = feat_info[feat_info['type'] == 'mixed']['attribute'].values\n",
    "\n",
    "    _index = []\n",
    "    for i in range(len(mixed_col)):\n",
    "        for j in del_list:\n",
    "            if mixed_col[i] == j:\n",
    "                _index.append(i)\n",
    "\n",
    "    mixed_col = np.delete(mixed_col, _index)\n",
    "    \n",
    "    # preprocessing for PRAEGENDE_JUGENDJAHRE \n",
    "    if 'PRAEGENDE_JUGENDJAHRE' in subset.columns:\n",
    "        subset['PRAEGENDE_JUGENDJAHRE_DECADE'] = subset['PRAEGENDE_JUGENDJAHRE'].apply(\\\n",
    "        lambda x : (x <= 2 and 1) or (x <= 4 and 2) or (x <= 7 and 3) or (x <= 9 and 4) or (x <=13 and 5) or (x <=15 and 6))\n",
    "        subset['PRAEGENDE_JUGENDJAHRE_MOVEMENT'] = subset['PRAEGENDE_JUGENDJAHRE'].apply(\\\n",
    "        lambda x : 0 if x in [1, 3, 5, 8, 10, 12, 14] else 1)                                                                             \n",
    "        subset.drop('PRAEGENDE_JUGENDJAHRE', axis = 1, inplace = True)\n",
    "    \n",
    "    # preprocessing for CAMEO_INTL_2015\n",
    "    if 'CAMEO_INTL_2015' in subset.columns:        \n",
    "        subset['CAMEO_INTL_2015_WEALTH'] = subset['CAMEO_INTL_2015'].apply(lambda x : str(x)[0])\n",
    "        subset['CAMEO_INTL_2015_LIFE'] = subset['CAMEO_INTL_2015'].apply(lambda x : str(x)[1])\n",
    "        subset.drop('CAMEO_INTL_2015', axis = 1, inplace = True)\n",
    "    \n",
    "    # Return the cleaned dataframe.\n",
    "    return subset \n",
    "    "
   ]
  },
  {
   "cell_type": "code",
   "execution_count": 43,
   "metadata": {
    "scrolled": true
   },
   "outputs": [],
   "source": [
    "df = pd.read_csv('Udacity_AZDIAS_Subset.csv', delimiter = ';')\n",
    "subset = clean_data(df)"
   ]
  },
  {
   "cell_type": "markdown",
   "metadata": {},
   "source": [
    "## Step 2: Feature Transformation\n",
    "\n",
    "### Step 2.1: Apply Feature Scaling\n",
    "\n",
    "Before we apply dimensionality reduction techniques to the data, we need to perform feature scaling so that the principal component vectors are not influenced by the natural differences in scale for features. Starting from this part of the project, you'll want to keep an eye on the [API reference page for sklearn](http://scikit-learn.org/stable/modules/classes.html) to help you navigate to all of the classes and functions that you'll need. In this substep, you'll need to check the following:\n",
    "\n",
    "- sklearn requires that data not have missing values in order for its estimators to work properly. So, before applying the scaler to your data, make sure that you've cleaned the DataFrame of the remaining missing values. This can be as simple as just removing all data points with missing data, or applying an [Imputer](http://scikit-learn.org/stable/modules/generated/sklearn.preprocessing.Imputer.html) to replace all missing values. You might also try a more complicated procedure where you temporarily remove missing values in order to compute the scaling parameters before re-introducing those missing values and applying imputation. Think about how much missing data you have and what possible effects each approach might have on your analysis, and justify your decision in the discussion section below.\n",
    "- For the actual scaling function, a [StandardScaler](http://scikit-learn.org/stable/modules/generated/sklearn.preprocessing.StandardScaler.html) instance is suggested, scaling each feature to mean 0 and standard deviation 1.\n",
    "- For these classes, you can make use of the `.fit_transform()` method to both fit a procedure to the data as well as apply the transformation to the data at the same time. Don't forget to keep the fit sklearn objects handy, since you'll be applying them to the customer demographics data towards the end of the project."
   ]
  },
  {
   "cell_type": "code",
   "execution_count": 44,
   "metadata": {},
   "outputs": [],
   "source": [
    "# Apply feature scaling to the general population demographics data.\n",
    "ss = StandardScaler()\n",
    "data = ss.fit_transform(subset)\n",
    "data = pd.DataFrame(data, columns = subset.columns)"
   ]
  },
  {
   "cell_type": "markdown",
   "metadata": {},
   "source": [
    "### Discussion 2.1: Apply Feature Scaling\n",
    "\n",
    "I used StandardScaler function for feature scaling. So now they are 0 mean and 1 standard deviation."
   ]
  },
  {
   "cell_type": "markdown",
   "metadata": {},
   "source": [
    "### Step 2.2: Perform Dimensionality Reduction\n",
    "\n",
    "On your scaled data, you are now ready to apply dimensionality reduction techniques.\n",
    "\n",
    "- Use sklearn's [PCA](http://scikit-learn.org/stable/modules/generated/sklearn.decomposition.PCA.html) class to apply principal component analysis on the data, thus finding the vectors of maximal variance in the data. To start, you should not set any parameters (so all components are computed) or set a number of components that is at least half the number of features (so there's enough features to see the general trend in variability).\n",
    "- Check out the ratio of variance explained by each principal component as well as the cumulative variance explained. Try plotting the cumulative or sequential values using matplotlib's [`plot()`](https://matplotlib.org/api/_as_gen/matplotlib.pyplot.plot.html) function. Based on what you find, select a value for the number of transformed features you'll retain for the clustering part of the project.\n",
    "- Once you've made a choice for the number of components to keep, make sure you re-fit a PCA instance to perform the decided-on transformation."
   ]
  },
  {
   "cell_type": "code",
   "execution_count": 45,
   "metadata": {},
   "outputs": [],
   "source": [
    "# Apply PCA to the data.\n",
    "pca = PCA()\n",
    "pca.fit(data)\n",
    "pca_data = pca.transform(data)"
   ]
  },
  {
   "cell_type": "code",
   "execution_count": 46,
   "metadata": {
    "scrolled": true
   },
   "outputs": [
    {
     "data": {
      "text/plain": [
       "array([  1.33630136e-01,   9.95084321e-02,   6.36725045e-02,\n",
       "         4.53267654e-02,   3.51444687e-02,   2.37885004e-02,\n",
       "         2.29505663e-02,   2.00450582e-02,   1.85899232e-02,\n",
       "         1.76727997e-02,   1.67548674e-02,   1.55467772e-02,\n",
       "         1.49120751e-02,   1.44347342e-02,   1.39662105e-02,\n",
       "         1.31423070e-02,   1.29479542e-02,   1.22965618e-02,\n",
       "         1.22574790e-02,   1.21011484e-02,   1.20177584e-02,\n",
       "         1.15958329e-02,   1.12764619e-02,   1.10397572e-02,\n",
       "         1.08864151e-02,   1.05249670e-02,   1.04126179e-02,\n",
       "         1.01562275e-02,   9.90801484e-03,   9.83903277e-03,\n",
       "         9.59791105e-03,   9.55275833e-03,   9.44099629e-03,\n",
       "         9.34715922e-03,   9.28404305e-03,   8.94021477e-03,\n",
       "         8.70227859e-03,   8.63574824e-03,   8.41632105e-03,\n",
       "         8.06958506e-03,   8.03359343e-03,   7.66149639e-03,\n",
       "         7.47966537e-03,   7.23483501e-03,   7.11696201e-03,\n",
       "         6.97010897e-03,   6.45377184e-03,   6.31024038e-03,\n",
       "         6.07036074e-03,   5.99432975e-03,   5.56264920e-03,\n",
       "         5.35578644e-03,   5.25172370e-03,   4.99894631e-03,\n",
       "         4.64736825e-03,   4.26319572e-03,   4.09345081e-03,\n",
       "         4.00802975e-03,   3.96086458e-03,   3.69783720e-03,\n",
       "         3.62504796e-03,   3.55736049e-03,   3.46967806e-03,\n",
       "         3.32331119e-03,   3.12691404e-03,   2.81393599e-03,\n",
       "         2.63012745e-03,   2.54786072e-03,   2.48151371e-03,\n",
       "         2.42418052e-03,   2.41020912e-03,   2.31939952e-03,\n",
       "         2.19800523e-03,   2.15682850e-03,   2.06241689e-03,\n",
       "         1.99505617e-03,   1.88585859e-03,   1.85856726e-03,\n",
       "         1.78377056e-03,   1.69112936e-03,   1.60392926e-03,\n",
       "         1.58618949e-03,   1.54742606e-03,   1.43853781e-03,\n",
       "         1.35992618e-03,   1.28612078e-03,   1.27877033e-03,\n",
       "         1.24777819e-03,   1.19556596e-03,   1.11746448e-03,\n",
       "         9.65393785e-04,   8.58464565e-04,   7.57495065e-04,\n",
       "         7.50012704e-04,   7.08051826e-04,   3.54769624e-04,\n",
       "         6.47043418e-05,   1.96419163e-05,   9.05268990e-27,\n",
       "         1.87867043e-27,   6.19554367e-28,   8.51094611e-29,\n",
       "         4.80280254e-29,   2.77314335e-29,   1.34007091e-29,\n",
       "         6.13043345e-30,   2.12252546e-30])"
      ]
     },
     "execution_count": 46,
     "metadata": {},
     "output_type": "execute_result"
    }
   ],
   "source": [
    "pca.explained_variance_ratio_"
   ]
  },
  {
   "cell_type": "code",
   "execution_count": 47,
   "metadata": {
    "scrolled": true
   },
   "outputs": [],
   "source": [
    "pca_cum = []\n",
    "sum = 0\n",
    "for i in pca.explained_variance_ratio_:\n",
    "    sum += i\n",
    "    pca_cum.append(sum)"
   ]
  },
  {
   "cell_type": "code",
   "execution_count": 48,
   "metadata": {},
   "outputs": [
    {
     "data": {
      "image/png": "[encoded data removed]",
      "text/plain": [
       "<matplotlib.figure.Figure at 0x7fa5cd43bc88>"
      ]
     },
     "metadata": {
      "needs_background": "light"
     },
     "output_type": "display_data"
    }
   ],
   "source": [
    "# variance plotting for bar chart and cumulative graph\n",
    "plt.figure(figsize = [7, 7])\n",
    "plt.plot(pca_cum)\n",
    "plt.bar(range(107), pca.explained_variance_ratio_)\n",
    "plt.legend(['var_cum', 'var']);"
   ]
  },
  {
   "cell_type": "code",
   "execution_count": 49,
   "metadata": {},
   "outputs": [
    {
     "data": {
      "text/plain": [
       "0.70659930719096298"
      ]
     },
     "execution_count": 49,
     "metadata": {},
     "output_type": "execute_result"
    }
   ],
   "source": [
    "pca.explained_variance_ratio_[:28].sum() # over 70% explanation"
   ]
  },
  {
   "cell_type": "code",
   "execution_count": 50,
   "metadata": {},
   "outputs": [],
   "source": [
    "# Re-apply PCA to the data while selecting for number of components to retain.\n",
    "pca = PCA(n_components = 28)\n",
    "pca_data = pca.fit_transform(data)\n"
   ]
  },
  {
   "cell_type": "code",
   "execution_count": 51,
   "metadata": {
    "scrolled": true
   },
   "outputs": [
    {
     "data": {
      "text/plain": [
       "0.70509129524132952"
      ]
     },
     "execution_count": 51,
     "metadata": {},
     "output_type": "execute_result"
    }
   ],
   "source": [
    "pca.explained_variance_ratio_.sum()"
   ]
  },
  {
   "cell_type": "markdown",
   "metadata": {},
   "source": [
    "### Discussion 2.2: Perform Dimensionality Reduction\n",
    "\n",
    "For having over 70% explanation, I have chosen 28 components for the next step of the analysis. Also, As you can see in the results of PCA.explained_variance_ratio_, they have less than 1% explanation after 28 components. So it is enough to use only 28 components."
   ]
  },
  {
   "cell_type": "markdown",
   "metadata": {},
   "source": [
    "### Step 2.3: Interpret Principal Components\n",
    "\n",
    "Now that we have our transformed principal components, it's a nice idea to check out the weight of each variable on the first few components to see if they can be interpreted in some fashion.\n",
    "\n",
    "As a reminder, each principal component is a unit vector that points in the direction of highest variance (after accounting for the variance captured by earlier principal components). The further a weight is from zero, the more the principal component is in the direction of the corresponding feature. If two features have large weights of the same sign (both positive or both negative), then increases in one tend expect to be associated with increases in the other. To contrast, features with different signs can be expected to show a negative correlation: increases in one variable should result in a decrease in the other.\n",
    "\n",
    "- To investigate the features, you should map each weight to their corresponding feature name, then sort the features according to weight. The most interesting features for each principal component, then, will be those at the beginning and end of the sorted list. Use the data dictionary document to help you understand these most prominent features, their relationships, and what a positive or negative value on the principal component might indicate.\n",
    "- You should investigate and interpret feature associations from the first three principal components in this substep. To help facilitate this, you should write a function that you can call at any time to print the sorted list of feature weights, for the *i*-th principal component. This might come in handy in the next step of the project, when you interpret the tendencies of the discovered clusters."
   ]
  },
  {
   "cell_type": "code",
   "execution_count": 52,
   "metadata": {},
   "outputs": [],
   "source": [
    "feature_weights = pca.components_"
   ]
  },
  {
   "cell_type": "code",
   "execution_count": 53,
   "metadata": {
    "scrolled": true
   },
   "outputs": [],
   "source": [
    "# get dictionary function\n",
    "def make_dict(num):\n",
    "    f_dict = {}\n",
    "    for i, j in zip(data.columns, feature_weights[num]):\n",
    "        f_dict[i] = j\n",
    "    return f_dict"
   ]
  },
  {
   "cell_type": "code",
   "execution_count": 54,
   "metadata": {},
   "outputs": [],
   "source": [
    "# get sorted dictionary function\n",
    "def sort_dict(dic):\n",
    "    feature_name = sorted(dic, key=dic.__getitem__)\n",
    "    weights = sorted(dic.values())\n",
    "    sorted_dic = {}\n",
    "    for i, j in zip(feature_name, weights):\n",
    "        sorted_dic[i] = j\n",
    "    return sorted_dic"
   ]
  },
  {
   "cell_type": "code",
   "execution_count": 55,
   "metadata": {},
   "outputs": [
    {
     "data": {
      "text/plain": [
       "{'PRAEGENDE_JUGENDJAHRE_DECADE': -0.22752127443302106,\n",
       " 'SEMIO_REL': -0.22328301178296422,\n",
       " 'FINANZ_SPARER': -0.20949035939327842,\n",
       " 'SEMIO_PFLICHT': -0.2077517853191404,\n",
       " 'FINANZ_UNAUFFAELLIGER': -0.20745286861264542,\n",
       " 'SEMIO_TRADV': -0.20401928952800014,\n",
       " 'FINANZ_ANLEGER': -0.18678181371631994,\n",
       " 'SEMIO_KULT': -0.17902527616557332,\n",
       " 'ONLINE_AFFINITAET': -0.16569477125549034,\n",
       " 'SEMIO_RAT': -0.15574873018301255,\n",
       " 'SEMIO_FAM': -0.14218931475665916,\n",
       " 'SEMIO_MAT': -0.12602039186036576,\n",
       " 'FINANZTYP0': -0.11268044613905312,\n",
       " 'ZABEOTYP3': -0.10358264906444928,\n",
       " 'PLZ8_ANTG1': -0.094844887303017544,\n",
       " 'MOBI_REGIO': -0.094264617446359222,\n",
       " 'FINANZTYP3': -0.093877329899233405,\n",
       " 'KBA05_GBZ': -0.090691185934508214,\n",
       " 'KBA05_ANTG1': -0.087000902137903485,\n",
       " 'ZABEOTYP0': -0.083499071286170859,\n",
       " 'FINANZTYP2': -0.082391634080854773,\n",
       " 'ANZ_PERSONEN': -0.081531272988952852,\n",
       " 'ZABEOTYP4': -0.078547086300962493,\n",
       " 'SEMIO_SOZ': -0.076275600043139047,\n",
       " 'PLZ8_GBZ': -0.074820667352788597,\n",
       " 'INNENSTADT': -0.0712846075353777,\n",
       " 'LP_LEBENSPHASE_GROB': -0.069224562912020532,\n",
       " 'KONSUMNAEHE': -0.067438344641541068,\n",
       " 'SHOPPER_TYP0': -0.066459443352479844,\n",
       " 'LP_FAMILIE_GROB3': -0.065189889384603197,\n",
       " 'LP_LEBENSPHASE_FEIN': -0.064414963094312397,\n",
       " 'LP_FAMILIE_GROB4': -0.061200453923817962,\n",
       " 'BALLRAUM': -0.05562488543026331,\n",
       " 'CJT_GESAMTTYP3': -0.054936441118154669,\n",
       " 'WOHNLAGE': -0.04817840538589839,\n",
       " 'GEBAEUDETYP_RASTER': -0.045220166508055229,\n",
       " 'SEMIO_VERT': -0.045110886904872763,\n",
       " 'HEALTH_TYP': -0.044758550474608062,\n",
       " 'NATIONALITAET_KZ2': -0.044488408606357735,\n",
       " 'NATIONALITAET_KZ1': -0.040765554299392007,\n",
       " 'CJT_GESAMTTYP5': -0.040205272563208883,\n",
       " 'LP_FAMILIE_GROB2': -0.03983194180547095,\n",
       " 'KBA13_ANZAHL_PKW': -0.037150530275040991,\n",
       " 'OST_WEST_KZ': -0.034381308913624176,\n",
       " 'CJT_GESAMTTYP4': -0.032984071878095628,\n",
       " 'CJT_GESAMTTYP2': -0.032181395702444202,\n",
       " 'GEBAEUDETYP0': -0.031551584472908983,\n",
       " 'LP_STATUS_GROB3': -0.031366727063591088,\n",
       " 'ZABEOTYP1': -0.030618315953254666,\n",
       " 'GREEN_AVANTGARDE': -0.027148158856346215,\n",
       " 'PRAEGENDE_JUGENDJAHRE_MOVEMENT': -0.027148158856346215,\n",
       " 'MIN_GEBAEUDEJAHR': -0.025769721791963806,\n",
       " 'SHOPPER_TYP1': -0.022864226340320516,\n",
       " 'LP_STATUS_GROB4': -0.01436247277048967,\n",
       " 'LP_STATUS_GROB1': -0.012871638030629353,\n",
       " 'CAMEO_INTL_2015_LIFE': -0.010028143226624871,\n",
       " 'LP_STATUS_GROB2': -0.0062093211350822573,\n",
       " 'KBA05_ANTG2': -0.0061643578981926562,\n",
       " 'SOHO_KZ': -0.0024807728516935317,\n",
       " 'GEBAEUDETYP2': 0.00035344461168011028,\n",
       " 'KKK': 0.0054334029521313507,\n",
       " 'ANZ_TITEL': 0.0058424180470298811,\n",
       " 'SHOPPER_TYP2': 0.0088091146696254487,\n",
       " 'GEBAEUDETYP3': 0.010141311140390092,\n",
       " 'PLZ8_HHZ': 0.012179745976913021,\n",
       " 'VERS_TYP': 0.022651844594414276,\n",
       " 'REGIOTYP': 0.02276614195591823,\n",
       " 'ZABEOTYP5': 0.025289193464681319,\n",
       " 'GEBAEUDETYP1': 0.027617101465081045,\n",
       " 'ANZ_HH_TITEL': 0.028258969797373454,\n",
       " 'LP_FAMILIE_GROB1': 0.032967785439701691,\n",
       " 'SEMIO_DOM': 0.045251081780241703,\n",
       " 'WOHNDAUER_2008': 0.04617782754955415,\n",
       " 'LP_STATUS_GROB0': 0.048040347022744248,\n",
       " 'KBA05_ANTG3': 0.050459850459074244,\n",
       " 'FINANZ_MINIMALIST': 0.052548973200954224,\n",
       " 'HH_EINKOMMEN_SCORE': 0.057364072147177259,\n",
       " 'NATIONALITAET_KZ0': 0.060874328112010392,\n",
       " 'RELAT_AB': 0.061039612958870122,\n",
       " 'ANZ_HAUSHALTE_AKTIV': 0.061140537986997749,\n",
       " 'ANREDE_KZ': 0.061348692851454022,\n",
       " 'PLZ8_ANTG2': 0.06213208601125076,\n",
       " 'FINANZTYP5': 0.064116801665620726,\n",
       " 'ARBEIT': 0.067025105602056906,\n",
       " 'CJT_GESAMTTYP0': 0.067845958023240935,\n",
       " 'KBA05_ANTG4': 0.068050504510509327,\n",
       " 'CAMEO_INTL_2015_WEALTH': 0.075640409982667037,\n",
       " 'SHOPPER_TYP3': 0.076316809096293778,\n",
       " 'FINANZTYP1': 0.076338405525951739,\n",
       " 'LP_FAMILIE_GROB0': 0.076706441574798223,\n",
       " 'SEMIO_KAEM': 0.081867517819186081,\n",
       " 'EWDICHTE': 0.08672350333125059,\n",
       " 'ORTSGR_KLS9': 0.087304759508811877,\n",
       " 'PLZ8_BAUMAX': 0.087499988291323244,\n",
       " 'FINANZTYP4': 0.090012954070132295,\n",
       " 'PLZ8_ANTG4': 0.09151694831548951,\n",
       " 'PLZ8_ANTG3': 0.095028416245296912,\n",
       " 'SEMIO_KRIT': 0.098488204160400564,\n",
       " 'CJT_GESAMTTYP1': 0.10154984728941505,\n",
       " 'FINANZ_HAUSBAUER': 0.11278316739695801,\n",
       " 'W_KEIT_KIND_HH': 0.12914709720006859,\n",
       " 'RETOURTYP_BK_S': 0.1545719610356614,\n",
       " 'SEMIO_LUST': 0.15603218215679224,\n",
       " 'SEMIO_ERL': 0.19360469985937537,\n",
       " 'ZABEOTYP2': 0.20410689070214949,\n",
       " 'FINANZ_VORSORGER': 0.20473301139976055,\n",
       " 'ALTERSKATEGORIE_GROB': 0.22682230718291951}"
      ]
     },
     "execution_count": 55,
     "metadata": {},
     "output_type": "execute_result"
    }
   ],
   "source": [
    "# Map weights for the first principal component to corresponding feature names\n",
    "# and then print the linked values, sorted by weight.\n",
    "first = make_dict(1)\n",
    "sort_dict(first)"
   ]
  },
  {
   "cell_type": "code",
   "execution_count": 56,
   "metadata": {},
   "outputs": [
    {
     "data": {
      "text/plain": [
       "{'ANREDE_KZ': -0.34805123612677813,\n",
       " 'SEMIO_KAEM': -0.32017314197634666,\n",
       " 'SEMIO_DOM': -0.2905281376094222,\n",
       " 'SEMIO_KRIT': -0.26198587236954457,\n",
       " 'SEMIO_ERL': -0.18788129949555316,\n",
       " 'SEMIO_RAT': -0.17844905157581309,\n",
       " 'FINANZ_ANLEGER': -0.16664410358562481,\n",
       " 'SHOPPER_TYP2': -0.11158318225096137,\n",
       " 'FINANZTYP0': -0.11028827442833171,\n",
       " 'PRAEGENDE_JUGENDJAHRE_DECADE': -0.076315422552788031,\n",
       " 'FINANZ_SPARER': -0.073200113349627505,\n",
       " 'ZABEOTYP3': -0.07245834615447172,\n",
       " 'FINANZ_UNAUFFAELLIGER': -0.063620374737665714,\n",
       " 'INNENSTADT': -0.054298657791973973,\n",
       " 'LP_FAMILIE_GROB2': -0.052417460234625894,\n",
       " 'FINANZ_HAUSBAUER': -0.051546332512079913,\n",
       " 'PLZ8_ANTG1': -0.049633713571677236,\n",
       " 'KONSUMNAEHE': -0.048165911402957194,\n",
       " 'SEMIO_TRADV': -0.047689745517551271,\n",
       " 'BALLRAUM': -0.04711142501460213,\n",
       " 'SHOPPER_TYP3': -0.045013003029603899,\n",
       " 'SEMIO_PFLICHT': -0.044650304657475152,\n",
       " 'GEBAEUDETYP_RASTER': -0.040584236754009163,\n",
       " 'PLZ8_GBZ': -0.038059400063028527,\n",
       " 'ONLINE_AFFINITAET': -0.037015437351388257,\n",
       " 'WOHNLAGE': -0.036067798987612067,\n",
       " 'ZABEOTYP4': -0.035907889204581336,\n",
       " 'HH_EINKOMMEN_SCORE': -0.035323856948626567,\n",
       " 'NATIONALITAET_KZ2': -0.035053962952467516,\n",
       " 'KKK': -0.03398579365300556,\n",
       " 'MOBI_REGIO': -0.030301846434319605,\n",
       " 'CJT_GESAMTTYP5': -0.030245556865607624,\n",
       " 'GEBAEUDETYP0': -0.028013659948770159,\n",
       " 'KBA05_GBZ': -0.026281035207253934,\n",
       " 'LP_STATUS_GROB1': -0.024138475971681138,\n",
       " 'ZABEOTYP1': -0.022657445527345773,\n",
       " 'KBA05_ANTG1': -0.021395679401856729,\n",
       " 'KBA13_ANZAHL_PKW': -0.021214399690039284,\n",
       " 'CJT_GESAMTTYP1': -0.020395116735735682,\n",
       " 'LP_FAMILIE_GROB3': -0.020191003934300494,\n",
       " 'REGIOTYP': -0.018614542809326621,\n",
       " 'FINANZTYP1': -0.018249217182493154,\n",
       " 'LP_STATUS_GROB0': -0.016546234978428373,\n",
       " 'ZABEOTYP2': -0.015849879390992982,\n",
       " 'MIN_GEBAEUDEJAHR': -0.012550934567815721,\n",
       " 'CAMEO_INTL_2015_LIFE': -0.011732506100248619,\n",
       " 'KBA05_ANTG2': -0.010971858800548391,\n",
       " 'LP_STATUS_GROB3': -0.0091284100160952172,\n",
       " 'OST_WEST_KZ': -0.0068862694253452933,\n",
       " 'HEALTH_TYP': -0.0064743638123561419,\n",
       " 'LP_LEBENSPHASE_GROB': -0.0010465199442373045,\n",
       " 'LP_FAMILIE_GROB4': -0.00097419977835555018,\n",
       " 'FINANZTYP5': -0.00047396593446248609,\n",
       " 'ANZ_PERSONEN': -0.0004264115397971882,\n",
       " 'SOHO_KZ': -4.126464829348584e-05,\n",
       " 'FINANZTYP3': 0.00048087429946141243,\n",
       " 'GEBAEUDETYP2': 0.00066743878254264517,\n",
       " 'LP_LEBENSPHASE_FEIN': 0.0011006399867171035,\n",
       " 'NATIONALITAET_KZ0': 0.0021176776470226691,\n",
       " 'GEBAEUDETYP3': 0.0023737506511784154,\n",
       " 'KBA05_ANTG3': 0.0036331183408458197,\n",
       " 'CJT_GESAMTTYP3': 0.0054540225502901643,\n",
       " 'CJT_GESAMTTYP4': 0.010302382300191424,\n",
       " 'CJT_GESAMTTYP2': 0.010733851647569985,\n",
       " 'LP_FAMILIE_GROB0': 0.011330663456127271,\n",
       " 'ANZ_TITEL': 0.012000543357338769,\n",
       " 'PLZ8_HHZ': 0.012089655978463993,\n",
       " 'FINANZTYP2': 0.012645073614872515,\n",
       " 'ANZ_HH_TITEL': 0.016380817729176315,\n",
       " 'VERS_TYP': 0.019247369692933357,\n",
       " 'CAMEO_INTL_2015_WEALTH': 0.01967415512034254,\n",
       " 'NATIONALITAET_KZ1': 0.022402467025949356,\n",
       " 'CJT_GESAMTTYP0': 0.024204369941597945,\n",
       " 'WOHNDAUER_2008': 0.026115443227975349,\n",
       " 'ANZ_HAUSHALTE_AKTIV': 0.026728330298163246,\n",
       " 'LP_FAMILIE_GROB1': 0.027348708040833117,\n",
       " 'LP_STATUS_GROB2': 0.027857873457679108,\n",
       " 'KBA05_ANTG4': 0.029270173655205706,\n",
       " 'GEBAEUDETYP1': 0.030872066299567801,\n",
       " 'ARBEIT': 0.033625089733505129,\n",
       " 'RELAT_AB': 0.033948171561663992,\n",
       " 'PLZ8_ANTG2': 0.0349602359996233,\n",
       " 'SHOPPER_TYP1': 0.042647161719970426,\n",
       " 'LP_STATUS_GROB4': 0.043351502304268576,\n",
       " 'ALTERSKATEGORIE_GROB': 0.04472538111783167,\n",
       " 'SEMIO_LUST': 0.047822154145645029,\n",
       " 'PLZ8_ANTG3': 0.050791231090743821,\n",
       " 'PLZ8_ANTG4': 0.051825253851632544,\n",
       " 'ZABEOTYP5': 0.052067379647336265,\n",
       " 'PLZ8_BAUMAX': 0.053911409109205236,\n",
       " 'ORTSGR_KLS9': 0.060546272613302733,\n",
       " 'EWDICHTE': 0.060815297852397594,\n",
       " 'GREEN_AVANTGARDE': 0.064700908439304983,\n",
       " 'PRAEGENDE_JUGENDJAHRE_MOVEMENT': 0.064700908439304983,\n",
       " 'SEMIO_MAT': 0.068429281030687655,\n",
       " 'FINANZ_VORSORGER': 0.06925742263281888,\n",
       " 'W_KEIT_KIND_HH': 0.082541734877590783,\n",
       " 'RETOURTYP_BK_S': 0.096488981975465557,\n",
       " 'SEMIO_REL': 0.10123346276432851,\n",
       " 'ZABEOTYP0': 0.1117895555191576,\n",
       " 'SHOPPER_TYP0': 0.1292315877765198,\n",
       " 'FINANZ_MINIMALIST': 0.13755502199044911,\n",
       " 'FINANZTYP4': 0.14482782426318216,\n",
       " 'SEMIO_KULT': 0.23631248167090213,\n",
       " 'SEMIO_FAM': 0.25327703066977564,\n",
       " 'SEMIO_SOZ': 0.25582658009254644,\n",
       " 'SEMIO_VERT': 0.32685670282970852}"
      ]
     },
     "execution_count": 56,
     "metadata": {},
     "output_type": "execute_result"
    }
   ],
   "source": [
    "# Map weights for the second principal component to corresponding feature names\n",
    "# and then print the linked values, sorted by weight.\n",
    "second = make_dict(2)\n",
    "sort_dict(second)"
   ]
  },
  {
   "cell_type": "code",
   "execution_count": 57,
   "metadata": {},
   "outputs": [
    {
     "data": {
      "text/plain": [
       "{'LP_FAMILIE_GROB0': -0.2388145948271386,\n",
       " 'WOHNLAGE': -0.200125092689068,\n",
       " 'INNENSTADT': -0.17648028836795257,\n",
       " 'BALLRAUM': -0.17607204017899833,\n",
       " 'W_KEIT_KIND_HH': -0.17338449144480736,\n",
       " 'HH_EINKOMMEN_SCORE': -0.16123048828315367,\n",
       " 'LP_STATUS_GROB3': -0.13518928055266449,\n",
       " 'KKK': -0.12752165403335808,\n",
       " 'KONSUMNAEHE': -0.11413924313926119,\n",
       " 'PLZ8_ANTG1': -0.0887209012974082,\n",
       " 'REGIOTYP': -0.088045513117694235,\n",
       " 'GEBAEUDETYP_RASTER': -0.073801431858997027,\n",
       " 'FINANZ_ANLEGER': -0.070343174764376987,\n",
       " 'LP_STATUS_GROB1': -0.063791521879228402,\n",
       " 'ZABEOTYP2': -0.062588736012409357,\n",
       " 'PLZ8_GBZ': -0.059949098268872812,\n",
       " 'FINANZTYP5': -0.055909952228416861,\n",
       " 'SEMIO_KULT': -0.054887318692586548,\n",
       " 'SEMIO_FAM': -0.05327360757079487,\n",
       " 'CJT_GESAMTTYP1': -0.051373955960519857,\n",
       " 'ZABEOTYP4': -0.042487293887294698,\n",
       " 'GEBAEUDETYP0': -0.042261857680891343,\n",
       " 'FINANZ_HAUSBAUER': -0.041471384199486025,\n",
       " 'SHOPPER_TYP0': -0.040369785986722223,\n",
       " 'ZABEOTYP5': -0.037376283805325504,\n",
       " 'SHOPPER_TYP1': -0.037329644087508801,\n",
       " 'SEMIO_VERT': -0.037233209612563815,\n",
       " 'CJT_GESAMTTYP0': -0.03659775981414632,\n",
       " 'CAMEO_INTL_2015_WEALTH': -0.036505333196648539,\n",
       " 'SEMIO_REL': -0.032758849917944283,\n",
       " 'MIN_GEBAEUDEJAHR': -0.032726503743591609,\n",
       " 'KBA05_ANTG2': -0.029893628910057955,\n",
       " 'KBA13_ANZAHL_PKW': -0.027968161209291697,\n",
       " 'FINANZTYP1': -0.025106552604404104,\n",
       " 'KBA05_GBZ': -0.02406424258974868,\n",
       " 'SEMIO_SOZ': -0.020919968384842381,\n",
       " 'KBA05_ANTG3': -0.019229551786111521,\n",
       " 'LP_STATUS_GROB0': -0.01651640263043945,\n",
       " 'NATIONALITAET_KZ0': -0.013963743603862983,\n",
       " 'HEALTH_TYP': -0.012711648554988195,\n",
       " 'MOBI_REGIO': -0.01254017183394239,\n",
       " 'SEMIO_MAT': -0.012352170335500047,\n",
       " 'ALTERSKATEGORIE_GROB': -0.011264099753949139,\n",
       " 'CJT_GESAMTTYP3': -0.010572076779452584,\n",
       " 'FINANZ_VORSORGER': -0.0057627344237454869,\n",
       " 'FINANZ_SPARER': -0.0028464546072083847,\n",
       " 'FINANZTYP3': -0.0024301129609400037,\n",
       " 'RETOURTYP_BK_S': -0.0013615381054596025,\n",
       " 'SEMIO_PFLICHT': -0.00057971486419346619,\n",
       " 'GEBAEUDETYP2': -0.00022968933882949158,\n",
       " 'FINANZTYP0': 0.0012441242199407003,\n",
       " 'NATIONALITAET_KZ2': 0.0020592629813955582,\n",
       " 'GEBAEUDETYP3': 0.0038586944606500673,\n",
       " 'SOHO_KZ': 0.0054302327112873564,\n",
       " 'SEMIO_KRIT': 0.0082544741083565888,\n",
       " 'LP_FAMILIE_GROB1': 0.0087442500690296729,\n",
       " 'SHOPPER_TYP2': 0.010443390636685135,\n",
       " 'ZABEOTYP3': 0.012200603672642727,\n",
       " 'VERS_TYP': 0.012972043059104453,\n",
       " 'KBA05_ANTG1': 0.013946999008817504,\n",
       " 'NATIONALITAET_KZ1': 0.015142129867058127,\n",
       " 'SEMIO_LUST': 0.015628095936693124,\n",
       " 'CAMEO_INTL_2015_LIFE': 0.017216990207318653,\n",
       " 'ANZ_HAUSHALTE_AKTIV': 0.018029087482495678,\n",
       " 'FINANZ_MINIMALIST': 0.020850407473736392,\n",
       " 'SEMIO_TRADV': 0.024299823357443514,\n",
       " 'PRAEGENDE_JUGENDJAHRE_DECADE': 0.024958482997394216,\n",
       " 'LP_FAMILIE_GROB2': 0.02652248840803844,\n",
       " 'CJT_GESAMTTYP2': 0.02701805513685656,\n",
       " 'CJT_GESAMTTYP4': 0.027312265254274926,\n",
       " 'SEMIO_ERL': 0.027538828342852904,\n",
       " 'KBA05_ANTG4': 0.033637374291832785,\n",
       " 'ANZ_HH_TITEL': 0.034115062399168936,\n",
       " 'OST_WEST_KZ': 0.034124396874217297,\n",
       " 'FINANZ_UNAUFFAELLIGER': 0.03576757793475116,\n",
       " 'ANZ_TITEL': 0.037296259896576665,\n",
       " 'SEMIO_RAT': 0.03787103886079534,\n",
       " 'FINANZTYP2': 0.042711425183865732,\n",
       " 'GEBAEUDETYP1': 0.046311851685848948,\n",
       " 'CJT_GESAMTTYP5': 0.049921147179854575,\n",
       " 'WOHNDAUER_2008': 0.052355131030608695,\n",
       " 'PLZ8_HHZ': 0.055182012175822526,\n",
       " 'SHOPPER_TYP3': 0.066647299764243023,\n",
       " 'ANREDE_KZ': 0.066892783045006163,\n",
       " 'LP_STATUS_GROB2': 0.068229236752830075,\n",
       " 'LP_FAMILIE_GROB3': 0.069872479115790434,\n",
       " 'ZABEOTYP0': 0.077994075082347042,\n",
       " 'FINANZTYP4': 0.078516210776968479,\n",
       " 'ARBEIT': 0.082969029945361594,\n",
       " 'PLZ8_ANTG2': 0.088425561564845115,\n",
       " 'RELAT_AB': 0.10118785751008735,\n",
       " 'PLZ8_BAUMAX': 0.10354840516562974,\n",
       " 'SEMIO_KAEM': 0.10362845583408885,\n",
       " 'SEMIO_DOM': 0.11230865292724571,\n",
       " 'PLZ8_ANTG4': 0.11453431003068548,\n",
       " 'ZABEOTYP1': 0.11480532044045635,\n",
       " 'PLZ8_ANTG3': 0.11823793783776923,\n",
       " 'ONLINE_AFFINITAET': 0.15761683752444569,\n",
       " 'LP_STATUS_GROB4': 0.19811296525986408,\n",
       " 'EWDICHTE': 0.21462144584150447,\n",
       " 'ORTSGR_KLS9': 0.21533760097931939,\n",
       " 'LP_FAMILIE_GROB4': 0.21810006359276965,\n",
       " 'ANZ_PERSONEN': 0.22952849399090708,\n",
       " 'GREEN_AVANTGARDE': 0.25134235845444114,\n",
       " 'PRAEGENDE_JUGENDJAHRE_MOVEMENT': 0.25134235845444114,\n",
       " 'LP_LEBENSPHASE_FEIN': 0.25185444729177353,\n",
       " 'LP_LEBENSPHASE_GROB': 0.25342158438249546}"
      ]
     },
     "execution_count": 57,
     "metadata": {},
     "output_type": "execute_result"
    }
   ],
   "source": [
    "# Map weights for the third principal component to corresponding feature names\n",
    "# and then print the linked values, sorted by weight.\n",
    "third = make_dict(3)\n",
    "sort_dict(third)"
   ]
  },
  {
   "cell_type": "markdown",
   "metadata": {},
   "source": [
    "### Discussion 2.3: Interpret Principal Components\n",
    "\n",
    "First component = (-0.228*PRAEGENDE_JUGENDJAHRE_DECADE) + (-0.223*SEMIO_REL) + ... + (0.205*FINANZ_VORSORGER) + (0.227*ALTERSKATEGORIE_GROB)\n",
    "\n",
    "It means this component will get a higher point if someone is older and have a high religious affinity, lower financial interest, older estimated age. we can think that it's highly related with age.\n",
    "\n",
    "\n",
    "Second componet = (-0.348*ANREDE_KZ) + (-0.320*SEMIO_KAEM) + ... + (0.327*SEMIO_VERT)\n",
    "\n",
    "If someone is male and have a highly combative, dreamful person, this component will get a higher point. It seems like it is highly related to challenging mindset.\n",
    "\n",
    "Third componet = (-0.239*LP_FAMILIE_GROB0) + ... + (0.252*LP_LEBENSPHASE_FEIN) + (0.253*LP_LEBENSPHASE_GROB)\n",
    "\n",
    "If someone is not single and has higher income level with multiperson, this component will get a higher point. It's mainly related to the income level and family number."
   ]
  },
  {
   "cell_type": "markdown",
   "metadata": {},
   "source": [
    "## Step 3: Clustering\n",
    "\n",
    "### Step 3.1: Apply Clustering to General Population\n",
    "\n",
    "You've assessed and cleaned the demographics data, then scaled and transformed them. Now, it's time to see how the data clusters in the principal components space. In this substep, you will apply k-means clustering to the dataset and use the average within-cluster distances from each point to their assigned cluster's centroid to decide on a number of clusters to keep.\n",
    "\n",
    "- Use sklearn's [KMeans](http://scikit-learn.org/stable/modules/generated/sklearn.cluster.KMeans.html#sklearn.cluster.KMeans) class to perform k-means clustering on the PCA-transformed data.\n",
    "- Then, compute the average difference from each point to its assigned cluster's center. **Hint**: The KMeans object's `.score()` method might be useful here, but note that in sklearn, scores tend to be defined so that larger is better. Try applying it to a small, toy dataset, or use an internet search to help your understanding.\n",
    "- Perform the above two steps for a number of different cluster counts. You can then see how the average distance decreases with an increasing number of clusters. However, each additional cluster provides a smaller net benefit. Use this fact to select a final number of clusters in which to group the data. **Warning**: because of the large size of the dataset, it can take a long time for the algorithm to resolve. The more clusters to fit, the longer the algorithm will take. You should test for cluster counts through at least 10 clusters to get the full picture, but you shouldn't need to test for a number of clusters above about 30.\n",
    "- Once you've selected a final number of clusters to use, re-fit a KMeans instance to perform the clustering operation. Make sure that you also obtain the cluster assignments for the general demographics data, since you'll be using them in the final Step 3.3."
   ]
  },
  {
   "cell_type": "code",
   "execution_count": 58,
   "metadata": {},
   "outputs": [],
   "source": [
    "# get kmeans score function\n",
    "def kmeans(cluster_num, data):\n",
    "    model = KMeans(cluster_num)\n",
    "    model.fit(data)\n",
    "    score = np.abs(model.score(data))\n",
    "    return score"
   ]
  },
  {
   "cell_type": "code",
   "execution_count": 59,
   "metadata": {},
   "outputs": [],
   "source": [
    "# get score plotting function \n",
    "def plot_score(num):\n",
    "    score = []\n",
    "    for i in range(num):\n",
    "        score.append(kmeans(i+1, pca_data))\n",
    "    plt.plot(list(range(1, num+1)), score, marker = 'o')\n",
    "    plt.xlabel('cluster_num')\n",
    "    plt.ylabel('score')\n",
    "    plt.ylim((0, score[0]))"
   ]
  },
  {
   "cell_type": "code",
   "execution_count": 87,
   "metadata": {},
   "outputs": [
    {
     "data": {
      "image/png": "[encoded data removed]",
      "text/plain": [
       "<matplotlib.figure.Figure at 0x7fa5c4d3d5f8>"
      ]
     },
     "metadata": {
      "needs_background": "light"
     },
     "output_type": "display_data"
    }
   ],
   "source": [
    "plot_score(26) # pick 24"
   ]
  },
  {
   "cell_type": "code",
   "execution_count": 61,
   "metadata": {},
   "outputs": [],
   "source": [
    "# Re-fit the k-means model with the selected number of clusters and obtain\n",
    "# cluster predictions for the general population demographics data.\n",
    "\n",
    "model = KMeans(24)\n",
    "model.fit(pca_data)\n",
    "pred = model.predict(pca_data)"
   ]
  },
  {
   "cell_type": "code",
   "execution_count": 62,
   "metadata": {},
   "outputs": [
    {
     "data": {
      "image/png": "[encoded data removed]",
      "text/plain": [
       "<matplotlib.figure.Figure at 0x7fa5c4f74e10>"
      ]
     },
     "metadata": {
      "needs_background": "light"
     },
     "output_type": "display_data"
    }
   ],
   "source": [
    "color = sns.color_palette()[0]\n",
    "sns.countplot(pred, color = color);"
   ]
  },
  {
   "cell_type": "markdown",
   "metadata": {},
   "source": [
    "### Discussion 3.1: Apply Clustering to General Population\n",
    "\n",
    "In the result of plot_score(27), we can see that there is no more meaningful decreasing movement after 24. It means we can't get a useful distance benefit even if choose a higher number for clustering. Therefore, I chose 24 for clustering to the general population."
   ]
  },
  {
   "cell_type": "markdown",
   "metadata": {},
   "source": [
    "### Step 3.2: Apply All Steps to the Customer Data\n",
    "\n",
    "Now that you have clusters and cluster centers for the general population, it's time to see how the customer data maps on to those clusters. Take care to not confuse this for re-fitting all of the models to the customer data. Instead, you're going to use the fits from the general population to clean, transform, and cluster the customer data. In the last step of the project, you will interpret how the general population fits apply to the customer data.\n",
    "\n",
    "- Don't forget when loading in the customers data, that it is semicolon (`;`) delimited.\n",
    "- Apply the same feature wrangling, selection, and engineering steps to the customer demographics using the `clean_data()` function you created earlier. (You can assume that the customer demographics data has similar meaning behind missing data patterns as the general demographics data.)\n",
    "- Use the sklearn objects from the general demographics data, and apply their transformations to the customers data. That is, you should not be using a `.fit()` or `.fit_transform()` method to re-fit the old objects, nor should you be creating new sklearn objects! Carry the data through the feature scaling, PCA, and clustering steps, obtaining cluster assignments for all of the data in the customer demographics data."
   ]
  },
  {
   "cell_type": "code",
   "execution_count": 63,
   "metadata": {},
   "outputs": [],
   "source": [
    "# Load in the customer demographics data.\n",
    "customers = pd.read_csv('Udacity_CUSTOMERS_Subset.csv', delimiter = ';')"
   ]
  },
  {
   "cell_type": "code",
   "execution_count": 64,
   "metadata": {},
   "outputs": [
    {
     "data": {
      "text/plain": [
       "(191652, 85)"
      ]
     },
     "execution_count": 64,
     "metadata": {},
     "output_type": "execute_result"
    }
   ],
   "source": [
    "customers.shape"
   ]
  },
  {
   "cell_type": "code",
   "execution_count": 65,
   "metadata": {},
   "outputs": [
    {
     "data": {
      "text/plain": [
       "array([ True,  True,  True,  True,  True,  True,  True,  True,  True,\n",
       "        True,  True,  True,  True,  True,  True,  True,  True,  True,\n",
       "        True,  True,  True,  True,  True,  True,  True,  True,  True,\n",
       "        True,  True,  True,  True,  True,  True,  True,  True,  True,\n",
       "        True,  True,  True,  True,  True,  True,  True,  True,  True,\n",
       "        True,  True,  True,  True,  True,  True,  True,  True,  True,\n",
       "        True,  True,  True,  True,  True,  True,  True,  True,  True,\n",
       "        True,  True,  True,  True,  True,  True,  True,  True,  True,\n",
       "        True,  True,  True,  True,  True,  True,  True,  True,  True,\n",
       "        True,  True,  True,  True], dtype=bool)"
      ]
     },
     "execution_count": 65,
     "metadata": {},
     "output_type": "execute_result"
    }
   ],
   "source": [
    "# They have same columns\n",
    "customers.columns == general.columns"
   ]
  },
  {
   "cell_type": "code",
   "execution_count": 66,
   "metadata": {
    "scrolled": false
   },
   "outputs": [
    {
     "data": {
      "text/plain": [
       "0.0    623208\n",
       "1.0         1\n",
       "Name: GEBAEUDETYP2, dtype: int64"
      ]
     },
     "execution_count": 66,
     "metadata": {},
     "output_type": "execute_result"
    }
   ],
   "source": [
    "# Apply preprocessing, feature transformation, and clustering from the general\n",
    "# demographics onto the customer data, obtaining cluster predictions for the\n",
    "# customer demographics data.\n",
    "customer = clean_data(customers)\n",
    "customer['Blank_GEBAEUDETYP3'] = np.ones(customer.shape[0])  # To get same number of columns 106(current) > 107\n",
    "subset['GEBAEUDETYP2'].value_counts()"
   ]
  },
  {
   "cell_type": "code",
   "execution_count": 67,
   "metadata": {},
   "outputs": [],
   "source": [
    "customer_scaled = ss.transform(customer)\n",
    "data1 = pd.DataFrame(customer_scaled, columns = customer.columns)\n",
    "data1_pca = pca.transform(data1)\n",
    "pred1 = model.predict(data1_pca)"
   ]
  },
  {
   "cell_type": "markdown",
   "metadata": {},
   "source": [
    "### Discussion 3.2 : Apply All Steps to the Customer Data\n",
    "\n",
    "The only difference between the general population and customer data is the former has one more 'GEBAEUDETYPE' dummy variables. But as you can see in the results of subset['GEBAEUDETYP2'].value_counts(), it has only one information. Therefore, I could choose two options. The One is dropping this column and retraining all of PCA and clustering, and the other is just add one useless column like subset['GEBAEUDETYP2']. I chose the latter."
   ]
  },
  {
   "cell_type": "markdown",
   "metadata": {},
   "source": [
    "### Step 3.3: Compare Customer Data to Demographics Data\n",
    "\n",
    "At this point, you have clustered data based on demographics of the general population of Germany, and seen how the customer data for a mail-order sales company maps onto those demographic clusters. In this final substep, you will compare the two cluster distributions to see where the strongest customer base for the company is.\n",
    "\n",
    "Consider the proportion of persons in each cluster for the general population, and the proportions for the customers. If we think the company's customer base to be universal, then the cluster assignment proportions should be fairly similar between the two. If there are only particular segments of the population that are interested in the company's products, then we should see a mismatch from one to the other. If there is a higher proportion of persons in a cluster for the customer data compared to the general population (e.g. 5% of persons are assigned to a cluster for the general population, but 15% of the customer data is closest to that cluster's centroid) then that suggests the people in that cluster to be a target audience for the company. On the other hand, the proportion of the data in a cluster being larger in the general population than the customer data (e.g. only 2% of customers closest to a population centroid that captures 6% of the data) suggests that group of persons to be outside of the target demographics.\n",
    "\n",
    "Take a look at the following points in this step:\n",
    "\n",
    "- Compute the proportion of data points in each cluster for the general population and the customer data. Visualizations will be useful here: both for the individual dataset proportions, but also to visualize the ratios in cluster representation between groups. Seaborn's [`countplot()`](https://seaborn.pydata.org/generated/seaborn.countplot.html) or [`barplot()`](https://seaborn.pydata.org/generated/seaborn.barplot.html) function could be handy.\n",
    "  - Recall the analysis you performed in step 1.1.3 of the project, where you separated out certain data points from the dataset if they had more than a specified threshold of missing values. If you found that this group was qualitatively different from the main bulk of the data, you should treat this as an additional data cluster in this analysis. Make sure that you account for the number of data points in this subset, for both the general population and customer datasets, when making your computations!\n",
    "- Which cluster or clusters are overrepresented in the customer dataset compared to the general population? Select at least one such cluster and infer what kind of people might be represented by that cluster. Use the principal component interpretations from step 2.3 or look at additional components to help you make this inference. Alternatively, you can use the `.inverse_transform()` method of the PCA and StandardScaler objects to transform centroids back to the original data space and interpret the retrieved values directly.\n",
    "- Perform a similar investigation for the underrepresented clusters. Which cluster or clusters are underrepresented in the customer dataset compared to the general population, and what kinds of people are typified by these clusters?"
   ]
  },
  {
   "cell_type": "code",
   "execution_count": 68,
   "metadata": {
    "scrolled": false
   },
   "outputs": [
    {
     "data": {
      "image/png": "[encoded data removed]",
      "text/plain": [
       "<matplotlib.figure.Figure at 0x7fa5ce9d87b8>"
      ]
     },
     "metadata": {
      "needs_background": "light"
     },
     "output_type": "display_data"
    }
   ],
   "source": [
    "# Compare the proportion of data in each cluster for the customer data to the\n",
    "# proportion of data in each cluster for the general population.\n",
    "\n",
    "max_prob = max(pd.Series(pred).value_counts() / data.shape[0])\n",
    "max_prob1 = max(pd.Series(pred1).value_counts() / data1.shape[0])\n",
    "y_ticks = np.arange(0, max_prob1 + 0.02, 0.02)\n",
    "y_labels = ['{}'.format(v) for v in y_ticks]\n",
    "y_ticks1 = np.arange(0, max_prob1 + 0.02, 0.02)\n",
    "y_labels1 = ['{}'.format(v) for v in y_ticks1]\n",
    "\n",
    "plt.figure(figsize = (16, 8))\n",
    "plt.subplot(1, 2, 1)\n",
    "sns.countplot(pred, color = color)\n",
    "plt.yticks(y_ticks * data.shape[0], y_labels);\n",
    "plt.subplot(1, 2, 2)\n",
    "sns.countplot(pred1, color = color)\n",
    "plt.yticks(y_ticks1 * data1.shape[0], y_labels1);"
   ]
  },
  {
   "cell_type": "code",
   "execution_count": 69,
   "metadata": {},
   "outputs": [],
   "source": [
    "def get_subset(df):\n",
    "    \n",
    "    # Load info data\n",
    "    feat_info = pd.read_csv('AZDIAS_Feature_Summary.csv', delimiter = ';')\n",
    "    \n",
    "    # Process to use unknown values\n",
    "    unknown = feat_info['missing_or_unknown'].copy()\n",
    "    unknown[57] = unknown[57].replace('X', '\"X\"')\n",
    "    unknown[58] = unknown[58].replace('XX', '\"XX\"')\n",
    "    unknown[59] = unknown[59].replace('XX', '\"XX\"')\n",
    "    unknown.replace('[]', '[\"blank\"]', inplace = True)\n",
    "    \n",
    "    general = df.copy()\n",
    "    for i in range(general.shape[1]):\n",
    "        general.iloc[:, i].replace(literal_eval(unknown[i]), np.nan, inplace = True)\n",
    "    \n",
    "  \n",
    "    # Remove missing-value outliers in columns    \n",
    "    missing_column = general.isnull().sum()\n",
    "    people = general.drop(missing_column[missing_column > general.shape[0]*0.348].index, axis = 1)\n",
    "    \n",
    "    # Divide the data into two subsets\n",
    "    missing_row = people.isnull().sum(axis = 1)\n",
    "    few_miss_index = list(missing_row[missing_row.values < 6].index)\n",
    "    high_miss_index = list(missing_row[missing_row.values >= 6].index)\n",
    "\n",
    "    subset1_few = people.iloc[few_miss_index]\n",
    "    subset2_high = people.iloc[high_miss_index]\n",
    "    \n",
    "    return subset2_high"
   ]
  },
  {
   "cell_type": "code",
   "execution_count": 70,
   "metadata": {},
   "outputs": [
    {
     "data": {
      "image/png": "[encoded data removed]",
      "text/plain": [
       "<matplotlib.figure.Figure at 0x7fa5c419c6d8>"
      ]
     },
     "metadata": {
      "needs_background": "light"
     },
     "output_type": "display_data"
    }
   ],
   "source": [
    "# check difference between high missing-subsets\n",
    "general_ = get_subset(azdias)\n",
    "customer_ = get_subset(customers)\n",
    "\n",
    "ge, cu = general_.shape[0] / (data.shape[0] + general_.shape[0]), customer_.shape[0] / (data1.shape[0] + customer_.shape[0])\n",
    "dif = [ge, cu]\n",
    "plt.bar(['general', 'customer'], dif, color = color);"
   ]
  },
  {
   "cell_type": "code",
   "execution_count": 71,
   "metadata": {},
   "outputs": [],
   "source": [
    "# What kinds of people are part of a cluster that is overrepresented in the\n",
    "# customer data compared to the general population?\n",
    "\n",
    "# cluster 0, 11, 21, 22, missing-subset"
   ]
  },
  {
   "cell_type": "code",
   "execution_count": 81,
   "metadata": {},
   "outputs": [
    {
     "data": {
      "text/plain": [
       "1   -4.746548\n",
       "2    2.456894\n",
       "3   -1.294104\n",
       "dtype: float64"
      ]
     },
     "execution_count": 81,
     "metadata": {},
     "output_type": "execute_result"
    }
   ],
   "source": [
    "# cluster 0\n",
    "cluster0 = pd.DataFrame(pca_data[pred == 0], columns = np.arange(1, 29))\n",
    "cluster0.mean(axis = 0)[:3]"
   ]
  },
  {
   "cell_type": "markdown",
   "metadata": {},
   "source": [
    "Especially, the first component is very low. And the second component got a high value. We can guess that it consists of young people and unreligious people. Also, they have a challenging mindset."
   ]
  },
  {
   "cell_type": "code",
   "execution_count": 82,
   "metadata": {},
   "outputs": [
    {
     "data": {
      "text/plain": [
       "1   -4.717219\n",
       "2   -1.218904\n",
       "3    2.783435\n",
       "dtype: float64"
      ]
     },
     "execution_count": 82,
     "metadata": {},
     "output_type": "execute_result"
    }
   ],
   "source": [
    "# cluster 11\n",
    "cluster11 = pd.DataFrame(pca_data[pred == 11], columns = np.arange(1, 29))\n",
    "cluster11.mean(axis = 0)[:3]"
   ]
  },
  {
   "cell_type": "markdown",
   "metadata": {},
   "source": [
    "Especially, the first component is very low. And the third component got a high score. It means people in cluster 11 are young and unreligious person. Also, they have good income-level or family number"
   ]
  },
  {
   "cell_type": "code",
   "execution_count": 84,
   "metadata": {},
   "outputs": [
    {
     "data": {
      "text/plain": [
       "1   -3.742541\n",
       "2    0.484236\n",
       "3    3.255309\n",
       "dtype: float64"
      ]
     },
     "execution_count": 84,
     "metadata": {},
     "output_type": "execute_result"
    }
   ],
   "source": [
    "# cluster 21\n",
    "cluster22 = pd.DataFrame(pca_data[pred == 22], columns = np.arange(1, 29))\n",
    "cluster22.mean(axis = 0)[:3]"
   ]
  },
  {
   "cell_type": "markdown",
   "metadata": {},
   "source": [
    "The first component is very low and the third component is very high. We can think these people are young or unreligious and have a high-income level or number of families."
   ]
  },
  {
   "cell_type": "code",
   "execution_count": 75,
   "metadata": {},
   "outputs": [],
   "source": [
    "# What kinds of people are part of a cluster that is underrepresented in the\n",
    "# customer data compared to the general population?\n",
    "\n",
    "# cluster 1, 6, 7, 12, 13, 14, 18, 23"
   ]
  },
  {
   "cell_type": "code",
   "execution_count": 85,
   "metadata": {},
   "outputs": [
    {
     "data": {
      "text/plain": [
       "1    6.210004\n",
       "2   -0.922275\n",
       "3   -2.432740\n",
       "dtype: float64"
      ]
     },
     "execution_count": 85,
     "metadata": {},
     "output_type": "execute_result"
    }
   ],
   "source": [
    "# cluster 1\n",
    "cluster1 = pd.DataFrame(pca_data[pred == 1], columns = np.arange(1, 29))\n",
    "cluster1.mean(axis = 0)[:3]"
   ]
  },
  {
   "cell_type": "markdown",
   "metadata": {},
   "source": [
    "Especially, the first component is very high. We can guess that it consists of old people and religious people. And the third component is low. So we can think they have a low income-level or number of families."
   ]
  },
  {
   "cell_type": "code",
   "execution_count": 86,
   "metadata": {},
   "outputs": [
    {
     "data": {
      "text/plain": [
       "1    1.860793\n",
       "2   -2.901977\n",
       "3   -3.363297\n",
       "dtype: float64"
      ]
     },
     "execution_count": 86,
     "metadata": {},
     "output_type": "execute_result"
    }
   ],
   "source": [
    "# cluster 12\n",
    "cluster12 = pd.DataFrame(pca_data[pred == 12], columns = np.arange(1, 29))\n",
    "cluster12.mean(axis = 0)[:3]"
   ]
  },
  {
   "cell_type": "markdown",
   "metadata": {},
   "source": [
    "The second and third component got a low score. It means they are likely to have a low income-level of number of families. And they want to be safe rather than challenge."
   ]
  },
  {
   "cell_type": "markdown",
   "metadata": {},
   "source": [
    "### Discussion 3.3: Compare Customer Data to Demographics Data\n",
    "\n",
    "The proportion of data in each cluster for the general population and the customer data looks very different. Therefore we can find the core customer like cluster 0, 11, 21, 22, missing-subset. They show a higher proportion than the general population. The company needs to focus on them. On the other hand, some clusters like 1, 6, 7, 12, 13, 14, 18, 23 show a lower proportion than the general population. In the company's view, they don't need to think about them. In conclusion, it is sufficiently useful to compare the customer data and general population data by clustering analysis. "
   ]
  },
  {
   "cell_type": "markdown",
   "metadata": {},
   "source": [
    "> Congratulations on making it this far in the project! Before you finish, make sure to check through the entire notebook from top to bottom to make sure that your analysis follows a logical flow and all of your findings are documented in **Discussion** cells. Once you've checked over all of your work, you should export the notebook as an HTML document to submit for evaluation. You can do this from the menu, navigating to **File -> Download as -> HTML (.html)**. You will submit both that document and this notebook for your project submission."
   ]
  }
 ],
 "metadata": {
  "kernelspec": {
   "display_name": "Python 3",
   "language": "python",
   "name": "python3"
  },
  "language_info": {
   "codemirror_mode": {
    "name": "ipython",
    "version": 3
   },
   "file_extension": ".py",
   "mimetype": "text/x-python",
   "name": "python",
   "nbconvert_exporter": "python",
   "pygments_lexer": "ipython3",
   "version": "3.6.3"
  }
 },
 "nbformat": 4,
 "nbformat_minor": 2
}
